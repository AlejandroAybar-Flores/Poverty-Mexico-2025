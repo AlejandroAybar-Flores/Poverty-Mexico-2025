{
  "cells": [
    {
      "cell_type": "code",
      "execution_count": null,
      "id": "d2170530-dc59-48ee-9ae5-97bf3d103665",
      "metadata": {
        "id": "d2170530-dc59-48ee-9ae5-97bf3d103665"
      },
      "outputs": [],
      "source": [
        "import pandas as pd\n",
        "import numpy as np\n",
        "import openpyxl"
      ]
    },
    {
      "cell_type": "code",
      "execution_count": null,
      "id": "1a6fd2aa-6faf-4a31-9cd0-a8877f0b3dc8",
      "metadata": {
        "id": "1a6fd2aa-6faf-4a31-9cd0-a8877f0b3dc8"
      },
      "outputs": [],
      "source": [
        "import os\n",
        "os.chdir('C:/Users/a.aybarf/Downloads')"
      ]
    },
    {
      "cell_type": "code",
      "execution_count": null,
      "id": "31595776-43b5-4142-a67d-4afbbc9ddb30",
      "metadata": {
        "id": "31595776-43b5-4142-a67d-4afbbc9ddb30"
      },
      "outputs": [],
      "source": [
        "data = pd.read_excel('dfregresion24.xlsx')"
      ]
    },
    {
      "cell_type": "code",
      "execution_count": null,
      "id": "cca96751-9b97-4fce-a398-657059729485",
      "metadata": {
        "id": "cca96751-9b97-4fce-a398-657059729485",
        "outputId": "9f7530aa-bd79-423e-c298-79a8c4698edb"
      },
      "outputs": [
        {
          "data": {
            "text/plain": [
              "91414"
            ]
          },
          "execution_count": 4,
          "metadata": {},
          "output_type": "execute_result"
        }
      ],
      "source": [
        "len(data)"
      ]
    },
    {
      "cell_type": "code",
      "execution_count": null,
      "id": "fc7678e6-5203-44c1-8362-69688da997e2",
      "metadata": {
        "id": "fc7678e6-5203-44c1-8362-69688da997e2",
        "outputId": "aa8456aa-79b9-418f-bb82-aa289d78e71b"
      },
      "outputs": [
        {
          "data": {
            "text/plain": [
              "Index(['Unnamed: 0', 'folioviv', 'foliohog', 'numren', 'est_dis', 'upm',\n",
              "       'factor', 'plp_e', 'plp', 'rururb', 'edad', 'sexo', 'alfabetism',\n",
              "       'trabajo_mp', 'ins_ali', 'hli', 'segsoc', 'atemed', 'tarjeta',\n",
              "       'disp_elect', 'tot_resid', 'región', 'conectividad', 'agua_drenaje',\n",
              "       'neducativojefe', 'trabajomenores', 'niños', 'ocupacion_hogar',\n",
              "       'consumption_expenditure', 'basic_energy', 'housing_tenure'],\n",
              "      dtype='object')"
            ]
          },
          "execution_count": 5,
          "metadata": {},
          "output_type": "execute_result"
        }
      ],
      "source": [
        "data.columns"
      ]
    },
    {
      "cell_type": "code",
      "source": [
        "# Eliminar las columnas no necesarias\n",
        "data_clean = data.drop(columns=['Unnamed: 0', 'folioviv', 'foliohog', 'numren',\n",
        "                                'est_dis', 'upm', 'factor', 'plp_e'])\n",
        "\n",
        "# Dividir el dataframe según el valor de 'plp'\n",
        "df_pobres = data_clean[data_clean['plp'] == 1]\n",
        "df_no_pobres = data_clean[data_clean['plp'] == 0]\n",
        "\n",
        "# Análisis de variables numéricas\n",
        "def analizar_variables_numericas(df):\n",
        "    # Variables numéricas que quieres analizar\n",
        "    variables_numericas = ['edad', 'tot_resid', 'niños', 'consumption_expenditure']\n",
        "    numéricas = df[variables_numericas].agg(['mean', 'std'])\n",
        "    return numéricas.round(1)  # Redondear a 1 decimal\n",
        "\n",
        "# Análisis para plp == 0 y plp == 1\n",
        "def analisis_univariado(df, plp_value):\n",
        "    print(f\"\\nAnálisis Univariado para plp = {plp_value}\")\n",
        "\n",
        "    # Análisis de Variables Numéricas\n",
        "    print(\"Variables numéricas:\")\n",
        "    numéricas = analizar_variables_numericas(df)\n",
        "    print(numéricas)\n",
        "\n",
        "    # Análisis de Variables Categóricas\n",
        "    print(\"\\nVariables categóricas:\")\n",
        "    # Seleccionar las variables categóricas (pueden ser de tipo object o int64 que representan categorías)\n",
        "    categoricas = df.select_dtypes(include=['object', 'category', 'int64', 'float64'])\n",
        "\n",
        "    # Excluir la columna 'plp' y las variables numéricas de las variables categóricas\n",
        "    categoricas = categoricas.drop(columns=['plp'] + ['edad', 'tot_resid', 'niños', 'consumption_expenditure'], errors='ignore')\n",
        "\n",
        "    # Para cada variable categórica, calcular el conteo y el porcentaje\n",
        "    for col in categoricas.columns:\n",
        "        print(f\"\\n{col} - Conteo y Porcentaje:\")\n",
        "\n",
        "        # Conteo\n",
        "        conteo = categoricas[col].value_counts()\n",
        "        print(\"Conteo:\")\n",
        "        print(conteo)\n",
        "\n",
        "        # Porcentaje\n",
        "        porcentaje = categoricas[col].value_counts(normalize=True) * 100\n",
        "        print(\"Porcentaje (%):\")\n",
        "        print(porcentaje.round(1))  # Redondear a 1 decimal\n",
        "\n",
        "# Realizar el análisis para plp == 0 y plp == 1\n",
        "analisis_univariado(df_pobres, 1)  # Análisis para pobres (plp == 1)\n",
        "analisis_univariado(df_no_pobres, 0)  # Análisis para no pobres (plp == 0)"
      ],
      "metadata": {
        "id": "b14ndH_yiPVQ"
      },
      "id": "b14ndH_yiPVQ",
      "execution_count": null,
      "outputs": []
    },
    {
      "cell_type": "code",
      "execution_count": null,
      "id": "443cde7d-7f81-4f83-8c82-579aab5d5fb4",
      "metadata": {
        "id": "443cde7d-7f81-4f83-8c82-579aab5d5fb4"
      },
      "outputs": [],
      "source": []
    }
  ],
  "metadata": {
    "kernelspec": {
      "display_name": "Python 3 (ipykernel)",
      "language": "python",
      "name": "python3"
    },
    "language_info": {
      "codemirror_mode": {
        "name": "ipython",
        "version": 3
      },
      "file_extension": ".py",
      "mimetype": "text/x-python",
      "name": "python",
      "nbconvert_exporter": "python",
      "pygments_lexer": "ipython3",
      "version": "3.11.7"
    },
    "colab": {
      "provenance": []
    }
  },
  "nbformat": 4,
  "nbformat_minor": 5
}