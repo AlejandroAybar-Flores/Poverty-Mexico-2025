{
  "cells": [
    {
      "cell_type": "code",
      "execution_count": null,
      "metadata": {
        "id": "GTL_fOzaeGbq"
      },
      "outputs": [],
      "source": [
        "!pip install openpyxl\n",
        "!pip install shap\n",
        "!pip install scikit-learn\n",
        "!pip install imbalanced-learn\n",
        "!pip install xgboost\n",
        "!pip install catboost\n",
        "!pip install lightgbm\n",
        "!pip install tensorflow\n",
        "!pip install seaborn --upgrade"
      ]
    },
    {
      "cell_type": "code",
      "execution_count": null,
      "metadata": {
        "id": "ZSjP8iFVc3lE"
      },
      "outputs": [],
      "source": [
        "import numpy as np\n",
        "import pandas as pd\n",
        "\n",
        "import warnings\n",
        "warnings.filterwarnings(\"ignore\")"
      ]
    },
    {
      "cell_type": "markdown",
      "metadata": {
        "id": "uuOx86nTdEpd"
      },
      "source": [
        "### Data Configuration"
      ]
    },
    {
      "cell_type": "code",
      "execution_count": null,
      "metadata": {
        "id": "05XczGMhc315"
      },
      "outputs": [],
      "source": [
        "df1 = pd.read_excel('C:/users/a.aybarf/Downloads/dfMLplp24.xlsx', index_col=0)"
      ]
    },
    {
      "cell_type": "code",
      "execution_count": null,
      "metadata": {
        "id": "theEBghkc33r",
        "outputId": "fe8e0405-d735-4085-dd64-fed69551482a"
      },
      "outputs": [
        {
          "data": {
            "text/plain": [
              "91414"
            ]
          },
          "execution_count": 4,
          "metadata": {},
          "output_type": "execute_result"
        }
      ],
      "source": [
        "len(df1)"
      ]
    },
    {
      "cell_type": "code",
      "execution_count": null,
      "metadata": {
        "id": "p4lXa1LjeGbw",
        "outputId": "764d192c-06c8-485d-c005-7cdc2689fc57"
      },
      "outputs": [
        {
          "data": {
            "text/plain": [
              "Index(['plp', 'rururb', 'edad', 'sexo', 'alfabetism', 'trabajo_mp', 'ins_ali',\n",
              "       'hli', 'segsoc', 'atemed', 'tarjeta', 'disp_elect', 'tot_resid',\n",
              "       'región', 'conectividad', 'agua_drenaje', 'neducativojefe',\n",
              "       'trabajomenores', 'niños', 'ocupacion_hogar', 'consumption_expenditure',\n",
              "       'basic_energy', 'housing_tenure'],\n",
              "      dtype='object')"
            ]
          },
          "execution_count": 5,
          "metadata": {},
          "output_type": "execute_result"
        }
      ],
      "source": [
        "df1.columns"
      ]
    },
    {
      "cell_type": "code",
      "execution_count": null,
      "metadata": {
        "id": "A98zT3VoeGbw"
      },
      "outputs": [],
      "source": [
        "#df1 = df1.drop(['gasto_total_e','trabajo_mp','basic_energy', 'housing_tenure'], axis=1)\n",
        "df1 = df1.drop(['trabajo_mp'], axis=1)"
      ]
    },
    {
      "cell_type": "code",
      "execution_count": null,
      "metadata": {
        "id": "F1Fc9IVmc35g"
      },
      "outputs": [],
      "source": [
        "df1.columns = ['plp',                 # Poverty Line Percentage\",\n",
        "    'urban_rural',         # 'rururb' = rural or urban\\n\",\n",
        "    'age',                 # 'edad'\\n\",\n",
        "    'sex',                 # 'sexo'\\n\",\n",
        "    'literacy',            # 'alfabetism'\\n\",\n",
        "    'food_insecurity',     # 'ins_ali' = food insecurity\\n\",\n",
        "    'hli',                 # hli\",\n",
        "    'public_healthcare',   # social health insurance\",\n",
        "    'medical_attention',   # 'atemed'\\n\",\n",
        "    'bank_card',           # 'tarjeta' = debit/credit/bank card\\n\",\n",
        "    'electricity',  # 'disp_elect' = electronic devices availability\\n\",\n",
        "    'total_residents',     # 'tot_resid'\\n\",\n",
        "    'region',              # 'región'\\n\",\n",
        "    'connectivity',        # 'conectividad' = internet or digital connectivity\\n\",\n",
        "    'water_drainage',      # 'agua_drenaje'\\n\",\n",
        "    'household_head_edu',  # 'neducativojefe' = educational level of household head\\n\",\n",
        "    'child_labor',         # 'trabajomenores'\\n\",\n",
        "    'children',            # 'niños'\\n\",\n",
        "    'household_occupation', # 'ocupacion_hogar' = economic activity of the household\\n\",\n",
        "    'consumption expenditure',\n",
        "    'basic_energy_equipment',\n",
        "    'housing_tenure'\n",
        "   ]"
      ]
    },
    {
      "cell_type": "code",
      "execution_count": null,
      "metadata": {
        "id": "77fhxc7_c37r",
        "outputId": "f985c48a-0a8c-431a-a8b9-f0d9752f12fa"
      },
      "outputs": [
        {
          "data": {
            "text/plain": [
              "Index(['plp', 'urban_rural', 'age', 'sex', 'literacy', 'food_insecurity',\n",
              "       'hli', 'public_healthcare', 'medical_attention', 'bank_card',\n",
              "       'electricity', 'total_residents', 'region', 'connectivity',\n",
              "       'water_drainage', 'household_head_edu', 'child_labor', 'children',\n",
              "       'household_occupation', 'consumption expenditure',\n",
              "       'basic_energy_equipment', 'housing_tenure'],\n",
              "      dtype='object')"
            ]
          },
          "execution_count": 8,
          "metadata": {},
          "output_type": "execute_result"
        }
      ],
      "source": [
        "df1.columns"
      ]
    },
    {
      "cell_type": "code",
      "execution_count": null,
      "metadata": {
        "id": "Wx10Ix_2c7KO",
        "outputId": "8523f33c-82f2-4d09-92eb-a76ae9ed8099"
      },
      "outputs": [
        {
          "name": "stderr",
          "output_type": "stream",
          "text": [
            "Matplotlib is building the font cache; this may take a moment.\n"
          ]
        }
      ],
      "source": [
        "from sklearn.model_selection import train_test_split, StratifiedKFold\n",
        "from sklearn.metrics import accuracy_score\n",
        "\n",
        "from sklearn.linear_model import LogisticRegression\n",
        "from sklearn.neighbors import KNeighborsClassifier\n",
        "from sklearn.tree import DecisionTreeClassifier\n",
        "from sklearn.neural_network import MLPClassifier\n",
        "from sklearn.ensemble import RandomForestClassifier\n",
        "from sklearn.naive_bayes import GaussianNB\n",
        "from xgboost import XGBClassifier\n",
        "from sklearn.ensemble import GradientBoostingClassifier\n",
        "from sklearn.ensemble import AdaBoostClassifier\n",
        "from sklearn.ensemble import ExtraTreesClassifier\n",
        "from lightgbm import LGBMClassifier\n",
        "from catboost import CatBoostClassifier\n",
        "\n",
        "from sklearn.metrics import roc_curve, auc\n",
        "from sklearn.metrics import accuracy_score, precision_score, recall_score, f1_score, confusion_matrix\n",
        "import matplotlib.pyplot as plt\n",
        "import seaborn as sns\n",
        "import shap\n",
        "\n",
        "from imblearn.over_sampling import SMOTE\n",
        "from sklearn.metrics import classification_report\n",
        "from sklearn.metrics import confusion_matrix\n",
        "from sklearn.metrics import RocCurveDisplay\n",
        "\n",
        "from sklearn.model_selection import GridSearchCV\n",
        "from sklearn.model_selection import HalvingGridSearchCV\n",
        "\n",
        "from sklearn import metrics\n",
        "from sklearn.model_selection import KFold\n",
        "from sklearn.model_selection import RepeatedKFold\n",
        "from sklearn.model_selection import cross_val_score, cross_val_predict\n",
        "from sklearn.utils import resample"
      ]
    },
    {
      "cell_type": "code",
      "execution_count": null,
      "metadata": {
        "id": "LaDN3ZJrc7MK"
      },
      "outputs": [],
      "source": [
        "import joblib"
      ]
    },
    {
      "cell_type": "code",
      "execution_count": null,
      "metadata": {
        "id": "o7j8aSU6c3-B",
        "outputId": "0f2aa974-38e0-4017-a15e-b19c16462f9e"
      },
      "outputs": [
        {
          "name": "stdout",
          "output_type": "stream",
          "text": [
            "(73131, 21) (73131, 1)\n",
            "(18283, 21) (18283, 1)\n"
          ]
        }
      ],
      "source": [
        "#Inicialización del método de muestreo por minorías sintéticas para el balanceo del conjunto de datos de entrenamiento a generar\n",
        "\n",
        "os = SMOTE(random_state=0)\n",
        "\n",
        "#División del conjunto de datos total en conjunto de entrenamiento y conjunto de prueba a través de la regla de Pareto: 80-20\n",
        "X = df1[['urban_rural', 'age', 'sex', 'literacy',\n",
        "       'food_insecurity', 'hli', 'public_healthcare', 'medical_attention',\n",
        "       'bank_card', 'electricity', 'total_residents', 'region', 'connectivity',\n",
        "       'water_drainage', 'household_head_edu', 'child_labor', 'children',\n",
        "       'household_occupation', 'consumption expenditure',\n",
        "       'basic_energy_equipment', 'housing_tenure',]]\n",
        "y = df1[['plp']]\n",
        "\n",
        "X_train, X_test, y_train, y_test = train_test_split(X, y, test_size=0.2, random_state=0)\n",
        "\n",
        "print(X_train.shape, y_train.shape)\n",
        "print(X_test.shape, y_test.shape)"
      ]
    },
    {
      "cell_type": "code",
      "execution_count": null,
      "metadata": {
        "id": "oUrzDxykc3_4"
      },
      "outputs": [],
      "source": [
        "# Función para calcular el intervalo de confianza del AUC mediante bootstrap\n",
        "def compute_auc_ci(y_true, y_scores, n_bootstraps=1000, alpha=0.95):\n",
        "    rng = np.random.default_rng()  # Generador de números aleatorios\n",
        "    bootstrapped_scores = []\n",
        "\n",
        "    for _ in range(n_bootstraps):\n",
        "        # Bootstrap: muestreo con reemplazo\n",
        "        indices = rng.integers(0, len(y_true), len(y_true))\n",
        "        if len(np.unique(y_true[indices])) < 2:  # Verifica que haya al menos dos clases\n",
        "            continue\n",
        "        score = auc(*roc_curve(y_true[indices], y_scores[indices])[:2])\n",
        "        bootstrapped_scores.append(score)\n",
        "\n",
        "    # Calcula los percentiles para el intervalo de confianza\n",
        "    lower = np.percentile(bootstrapped_scores, (1 - alpha) / 2 * 100)\n",
        "    upper = np.percentile(bootstrapped_scores, (1 + alpha) / 2 * 100)\n",
        "    return lower, upper\n",
        "\n",
        "# Modificar la función de la curva ROC para incluir el CI\n",
        "def plot_roc_curve_with_ci(y_true, y_scores, title=\"ROC Curve\", n_bootstraps=1000):\n",
        "    fpr, tpr, _ = roc_curve(y_true, y_scores)\n",
        "    roc_auc = auc(fpr, tpr)\n",
        "    ci_lower, ci_upper = compute_auc_ci(np.array(y_true), np.array(y_scores), n_bootstraps=n_bootstraps)\n",
        "\n",
        "    # Graficar la curva ROC\n",
        "    plt.figure(figsize=(8, 6))\n",
        "    plt.plot(fpr, tpr, color='darkorange', lw=2, label=f'ROC curve (AUC = {roc_auc:.2f}, 95% CI = [{ci_lower:.2f}, {ci_upper:.2f}])')\n",
        "    plt.plot([0, 1], [0, 1], color='navy', lw=2, linestyle='--')\n",
        "    plt.xlim([0.0, 1.0])\n",
        "    plt.ylim([0.0, 1.05])\n",
        "    plt.xlabel('False Positive Rate')\n",
        "    plt.ylabel('True Positive Rate')\n",
        "    plt.title(title)\n",
        "    plt.legend(loc=\"lower right\")\n",
        "    plt.grid()\n",
        "    plt.show()\n",
        "    return roc_auc, ci_lower, ci_upper"
      ]
    },
    {
      "cell_type": "code",
      "execution_count": null,
      "metadata": {
        "id": "p-rHYsvpdBiF"
      },
      "outputs": [],
      "source": [
        "def plot_multi_roc_curves_with_ci(models_data, title=\"ROC Curves\", label=\"a\"):\n",
        "    \"\"\"\n",
        "    Grafica múltiples curvas ROC con intervalos de confianza (95% CI).\n",
        "\n",
        "    Parámetros:\n",
        "        - models_data: Lista de tuplas [(modelo, y_true, y_scores, color, nombre del modelo)].\n",
        "        - title: Título del gráfico.\n",
        "        - label: Etiqueta en la parte superior izquierda del gráfico.\n",
        "    \"\"\"\n",
        "    # Estilo limpio con fondo blanco\n",
        "    plt.style.use('default')\n",
        "\n",
        "    plt.figure(figsize=(10, 8))\n",
        "    ax = plt.gca()\n",
        "    ax.set_facecolor(\"white\")  # Fondo blanco explícito para los ejes\n",
        "\n",
        "    for model_data in models_data:\n",
        "        y_true, y_scores, color, model_name = model_data\n",
        "\n",
        "        # Calcula ROC y AUC\n",
        "        fpr, tpr, _ = roc_curve(y_true, y_scores)\n",
        "        roc_auc = auc(fpr, tpr)\n",
        "\n",
        "        # Calcula el intervalo de confianza del AUC\n",
        "        ci_lower, ci_upper = compute_auc_ci(np.array(y_true), np.array(y_scores))\n",
        "\n",
        "        # Agregar la curva al gráfico\n",
        "        plt.plot(\n",
        "            fpr,\n",
        "            tpr,\n",
        "            color=color,\n",
        "            lw=2,\n",
        "            label=f'{model_name} AUC={roc_auc:.3f} (CI: {ci_lower:.3f} - {ci_upper:.3f})'\n",
        "        )\n",
        "\n",
        "    # Línea diagonal gris discontinua\n",
        "    plt.plot([0, 1], [0, 1], color='white', linestyle='--', lw=1.5)\n",
        "\n",
        "     # Línea diagonal de referencia\n",
        "    plt.plot(\n",
        "        [0, 1], [0, 1],\n",
        "        color='gray',\n",
        "        linestyle='--',\n",
        "        linewidth=1.5\n",
        "    )\n",
        "\n",
        "    # Configuración del gráfico\n",
        "    plt.xlim([0.0, 1.0])\n",
        "    plt.ylim([0.0, 1.05])\n",
        "    plt.xlabel('1 - Specificity', fontsize=14)\n",
        "    plt.ylabel('Sensitivity', fontsize=14)\n",
        "    plt.title(title, fontsize=10)\n",
        "    # Leyenda más compacta\n",
        "    plt.legend(\n",
        "        loc=\"lower right\",\n",
        "        fontsize=11,  # Tamaño de fuente más pequeño\n",
        "        bbox_to_anchor=(1.0, 0.0),  # Ajustar la posición de la leyenda\n",
        "        frameon=True,  # Habilitar el marco\n",
        "        shadow=False,  # Sin sombra\n",
        "        borderpad=0.5  # Espaciado interno del marco\n",
        "    )\n",
        "\n",
        "    # Etiqueta en la parte superior izquierda\n",
        "    plt.text(-0.1, 1.05, label, fontsize=16, fontweight='bold', va='center', ha='center')\n",
        "\n",
        "    plt.tight_layout()\n",
        "    plt.show()"
      ]
    },
    {
      "cell_type": "code",
      "execution_count": null,
      "metadata": {
        "id": "csk2LHWDBhbm"
      },
      "outputs": [],
      "source": [
        "import tensorflow as tf\n",
        "\n",
        "from tensorflow.keras.models import Sequential\n",
        "from tensorflow.keras.layers import Embedding, Conv1D, GlobalAveragePooling1D, Dense, Dropout, MaxPooling1D, Flatten\n",
        "from tensorflow.keras.utils import to_categorical\n",
        "from tensorflow.keras.optimizers import Adam\n",
        "from tensorflow.keras.layers import BatchNormalization, Activation\n",
        "from tensorflow.keras.optimizers.schedules import ExponentialDecay"
      ]
    },
    {
      "cell_type": "code",
      "execution_count": null,
      "metadata": {
        "id": "gjJfnuTuBroe"
      },
      "outputs": [],
      "source": [
        "from sklearn.metrics import accuracy_score, precision_score, recall_score, f1_score, confusion_matrix\n",
        "from sklearn.metrics import roc_curve, auc, accuracy_score\n",
        "import time"
      ]
    },
    {
      "cell_type": "markdown",
      "metadata": {
        "id": "voDQIpWBdHa4"
      },
      "source": [
        "### DL Testing"
      ]
    },
    {
      "cell_type": "code",
      "execution_count": null,
      "metadata": {
        "id": "c1e977IsCXBP"
      },
      "outputs": [],
      "source": [
        "# Split the data into training and test sets\n",
        "X_train1, X_test1, y_train, y_test = train_test_split(X, y, test_size=0.2, random_state=0) #hacerle reshape a todo (train, test y validation)\n",
        "\n",
        "X_train = X_train1.reset_index(drop=True)\n",
        "y_train = y_train.reset_index(drop=True) #dividir a y_0 y y_1\n",
        "\n",
        "Xtrainfinal1 = X_train.to_numpy()\n",
        "ytrainfinal1 = y_train.to_numpy()\n",
        "X_test1 = X_test1.to_numpy()\n",
        "y_test1 = y_test.to_numpy()\n",
        "\n",
        "X_test1=tf.reshape(X_test1,(X_test1.shape[0], X_test1.shape[1],1))"
      ]
    },
    {
      "cell_type": "code",
      "execution_count": null,
      "metadata": {
        "id": "dgayVNBVCXFN"
      },
      "outputs": [],
      "source": [
        "# Initialize StratifiedKFold for 10-fold cross-validation\n",
        "kfold = StratifiedKFold(n_splits=10, shuffle=True, random_state=42)"
      ]
    },
    {
      "cell_type": "code",
      "execution_count": null,
      "metadata": {
        "id": "_V3v6X9cCbH5"
      },
      "outputs": [],
      "source": [
        "initial_learning_rate = 0.01\n",
        "lr_schedule = ExponentialDecay(initial_learning_rate, decay_steps=200, decay_rate=0.9)"
      ]
    },
    {
      "cell_type": "code",
      "execution_count": null,
      "metadata": {
        "id": "p1M_RHoFB-Te"
      },
      "outputs": [],
      "source": [
        "# Define the CNN model\n",
        "def create_cnn_model(Xtrainfinal1):\n",
        "    model = Sequential()\n",
        "    # Capas convolucionales y de pooling\n",
        "    model.add(Conv1D(filters=50, kernel_size=7, activation='relu', input_shape=(Xtrainfinal1.shape[1], Xtrainfinal1.shape[2]), padding='same'))\n",
        "    model.add(BatchNormalization())\n",
        "    model.add(Conv1D(filters=25, kernel_size=7, activation='relu', padding='same'))\n",
        "    model.add(BatchNormalization())\n",
        "    model.add(MaxPooling1D(pool_size=2))\n",
        "    model.add(Conv1D(filters=10, kernel_size=7, activation='relu', padding='same'))\n",
        "    model.add(BatchNormalization())\n",
        "    model.add(Flatten())\n",
        "    #Capas densas\n",
        "    model.add(Dense(10, activation='relu'))\n",
        "    model.add(BatchNormalization())\n",
        "    model.add(Dropout(0.1))  # Add dropout for regularization\n",
        "    model.add(Dense(1, activation='sigmoid'))\n",
        "\n",
        "    model.compile(loss='binary_crossentropy', optimizer=Adam(learning_rate=lr_schedule), metrics=['accuracy']) #sparse_categorical_crossentropy (si es que no funciona la división de y con one-hot encoding)\n",
        "    return model"
      ]
    },
    {
      "cell_type": "code",
      "execution_count": null,
      "metadata": {
        "id": "-7bm65lCdBke"
      },
      "outputs": [],
      "source": [
        "best_model = None\n",
        "best_accuracy = 0.0\n",
        "counter = 1\n",
        "accuracyacumulada = 0.0\n",
        "\n",
        "# Mide el tiempo de entrenamiento\n",
        "start_time = time.time()\n",
        "# Perform 10-fold cross-validation\n",
        "for train_idx, val_idx in kfold.split(Xtrainfinal1, ytrainfinal1):\n",
        "\n",
        "    dfX = pd.DataFrame(Xtrainfinal1, columns=X.columns)\n",
        "    dfy = pd.DataFrame(ytrainfinal1, columns=y.columns)\n",
        "\n",
        "    X_trainP, X_val = dfX.loc[train_idx], dfX.loc[val_idx]\n",
        "    y_trainP, y_val = dfy.loc[train_idx], dfy.loc[val_idx]\n",
        "\n",
        "    X_trainP = X_trainP.to_numpy()\n",
        "    X_val = X_val.to_numpy()\n",
        "    y_trainP = y_trainP.to_numpy()\n",
        "    y_val = y_val.to_numpy()\n",
        "\n",
        "    X_trainP=tf.reshape(X_trainP,(X_trainP.shape[0], X_trainP.shape[1],1))\n",
        "    X_val=tf.reshape(X_val,(X_val.shape[0], X_val.shape[1],1))\n",
        "\n",
        "    model = create_cnn_model(X_trainP)\n",
        "    fold_start_time = time.time()\n",
        "    history = model.fit(X_trainP, y_trainP, epochs=25, batch_size=128, validation_data=(X_val, y_val), verbose=0)\n",
        "    fold_end_time = time.time()\n",
        "    #history\n",
        "    #(sacarlo primero del for para probar la arquitecutra y luego incluirlo)\n",
        "\n",
        "    fold_duration = fold_end_time - fold_start_time\n",
        "    print(f\"Tiempo de entrenamiento del Fold {counter}: {fold_duration:.2f} segundos\")\n",
        "\n",
        "    # Evaluate the model on the validation set\n",
        "    y_val_pred = model.predict(X_val)\n",
        "    y_val_pred = (y_val_pred > 0.5).astype(int)\n",
        "    accuracy = accuracy_score(y_val, y_val_pred)\n",
        "    print(f'Validation Accuracy {counter}: {accuracy * 100:.2f}%')\n",
        "\n",
        "    counter += 1\n",
        "    accuracyacumulada += accuracy\n",
        "\n",
        "    if accuracy > best_accuracy:\n",
        "        best_accuracy = accuracy\n",
        "        best_model = model\n",
        "        best_history = history\n",
        "        bestcm = confusion_matrix(y_val, y_val_pred)\n",
        "        best_precision = precision_score(y_val, y_val_pred)\n",
        "        bestrecall = recall_score(y_val, y_val_pred)\n",
        "        bestspecificity = bestcm[0, 0] / (bestcm[0, 0] + bestcm[0, 1])\n",
        "        bestf1 = f1_score(y_val, y_val_pred)\n",
        "        fpr, tpr, _ = roc_curve(y_val, y_val_pred)\n",
        "        bestroc_auc = auc(fpr, tpr)\n",
        "\n",
        "\n",
        "print(' ')\n",
        "print(f'Average Validation Accuracy: {(accuracyacumulada/10) * 100:.2f}%')\n",
        "end_time = time.time()"
      ]
    },
    {
      "cell_type": "code",
      "execution_count": null,
      "metadata": {
        "id": "CV4_eGVspnym"
      },
      "outputs": [],
      "source": [
        "# Calcula duración\n",
        "training_time = end_time - start_time\n",
        "print(f\"Tiempo total de entrenamiento: {training_time:.2f} segundos\")"
      ]
    },
    {
      "cell_type": "code",
      "execution_count": null,
      "metadata": {
        "id": "FqwILnEvChiN"
      },
      "outputs": [],
      "source": [
        "print(f'Best Validation Accuracy: {best_accuracy * 100:.2f}%')\n",
        "print(f'Best Validation Precision: {best_precision * 100:.2f}%')\n",
        "print(f'Best Validation Recall: {bestrecall * 100:.2f}%')\n",
        "print(f'Best Validation Specificity: {bestspecificity * 100:.2f}%')\n",
        "print(f'Best Validation F1: {bestf1:.2f}%')\n",
        "print(f'Best Validation AUC: {bestroc_auc:.2f}%')"
      ]
    },
    {
      "cell_type": "code",
      "execution_count": null,
      "metadata": {
        "id": "beqnrk-iChkX"
      },
      "outputs": [],
      "source": [
        "import seaborn as sns\n",
        "import matplotlib.pyplot as plt\n",
        "# Matriz de confusión estimada\n",
        "conf_matrix = np.array([[929, 134],\n",
        "       [308, 377]])  # [FP, TN]\n",
        "\n",
        "# Reorganizar a formato: [[TP, FN], [FP, TN]]\n",
        "# Pero para seaborn, la convención es: filas = reales, columnas = predichos\n",
        "# Así que reorganizamos como:\n",
        "# [[TP, FN],    --> Positivo real\n",
        "#  [FP, TN]]    --> Negativo real\n",
        "\n",
        "# Visualize confusion matrix using seaborn\n",
        "sns.set(font_scale=1.2)\n",
        "plt.figure(figsize=(6, 6))\n",
        "sns.heatmap(conf_matrix, annot=True, fmt=\"d\", cmap=\"Blues\", cbar=False,\n",
        "            annot_kws={\"size\": 15}, xticklabels=['Predicted 0', 'Predicted 1'],\n",
        "            yticklabels=['Actual 0', 'Actual 1'])\n",
        "plt.xlabel('Predicted label')\n",
        "plt.ylabel('True label')\n",
        "\n",
        "plt.title('Confusion Matrix')\n",
        "\n",
        "# Save the plot to a file\n",
        "plt.savefig('confusionmatrixRF.png')\n",
        "\n",
        "plt.show()"
      ]
    },
    {
      "cell_type": "code",
      "execution_count": null,
      "metadata": {
        "id": "XPpwrpiRpn03"
      },
      "outputs": [],
      "source": [
        "# Get the current learning rate from the optimizer\n",
        "current_learning_rate = tf.keras.backend.get_value(model.optimizer.learning_rate)\n",
        "print(\"Current Learning Rate:\", current_learning_rate)"
      ]
    },
    {
      "cell_type": "code",
      "execution_count": null,
      "metadata": {
        "id": "8p15ujd8Cm91"
      },
      "outputs": [],
      "source": [
        "import pydot\n",
        "import graphviz\n",
        "from tensorflow.keras.utils import plot_model\n",
        "\n",
        "plot_model(best_model, to_file='prueba1_best_model_cnn_modelMODELOFINALv2.png', show_shapes=True)"
      ]
    },
    {
      "cell_type": "code",
      "execution_count": null,
      "metadata": {
        "id": "b_jwHIODCkse"
      },
      "outputs": [],
      "source": [
        "import matplotlib.pyplot as plt\n",
        "\n",
        "# Plotting both training accuracy and loss in a single graph\n",
        "plt.figure(figsize=(12, 6))\n",
        "\n",
        "# Plot training accuracy and loss in the same graph\n",
        "plt.plot(best_history.history['accuracy'], label='Train Accuracy')\n",
        "plt.plot(best_history.history['loss'], label='Train Loss')\n",
        "\n",
        "plt.title('Model Accuracy and Loss')\n",
        "plt.xlabel('Epoch')\n",
        "plt.ylabel('Value')\n",
        "plt.legend(loc='upper left')\n",
        "\n",
        "# Save the plot to a file\n",
        "plt.savefig('accuracy_loss_plot_best_modelMODELOFINALv2.png')\n",
        "\n",
        "# Show the plot\n",
        "plt.show()"
      ]
    },
    {
      "cell_type": "code",
      "source": [
        "# Make predictions on the test set using the best model\n",
        "y_test_pred = best_model.predict(X_test1)\n",
        "\n",
        "y_test_pred = (y_test_pred > 0.5).astype(int)\n",
        "\n",
        "# Evaluate the performance on the test set\n",
        "test_accuracy = accuracy_score(y_test1, y_test_pred)\n",
        "print(f'Test Accuracy: {test_accuracy * 100:.2f}%')"
      ],
      "metadata": {
        "id": "AqhonsIWfE3P"
      },
      "execution_count": null,
      "outputs": []
    },
    {
      "cell_type": "code",
      "source": [
        "from sklearn.metrics import confusion_matrix\n",
        "from sklearn.metrics import classification_report\n",
        "\n",
        "confusion = confusion_matrix(y_test1, y_test_pred)\n",
        "confusion"
      ],
      "metadata": {
        "id": "DxkA-okCfGAG"
      },
      "execution_count": null,
      "outputs": []
    },
    {
      "cell_type": "code",
      "source": [
        "import matplotlib.pyplot as plt\n",
        "import seaborn as sns\n",
        "#from sklearn.metrics import confusion_matrix\n",
        "from sklearn.metrics import ConfusionMatrixDisplay\n",
        "\n",
        "# Visualize confusion matrix using seaborn\n",
        "sns.set(font_scale=1.2)\n",
        "plt.figure(figsize=(6, 6))\n",
        "sns.heatmap(confusion, annot=True, fmt=\"d\", cmap=\"Blues\", cbar=False,\n",
        "            annot_kws={\"size\": 15}, xticklabels=['Predicted 0', 'Predicted 1'],\n",
        "            yticklabels=['Actual 0', 'Actual 1'])\n",
        "plt.xlabel('Predicted label')\n",
        "plt.ylabel('True label')\n",
        "plt.title('Confusion Matrix')\n",
        "\n",
        "# Save the plot to a file\n",
        "#plt.savefig('confusionmatrixMODELOFINALv2.png')\n",
        "\n",
        "plt.show()"
      ],
      "metadata": {
        "id": "cdx9h8t_fHci"
      },
      "execution_count": null,
      "outputs": []
    },
    {
      "cell_type": "code",
      "source": [
        "from sklearn.metrics import accuracy_score, precision_score, recall_score, f1_score, confusion_matrix\n",
        "\n",
        "# Calculate confusion matrix\n",
        "cm = confusion_matrix(y_test1, y_test_pred)\n",
        "# Calculate accuracy\n",
        "accuracy = accuracy_score(y_test1, y_test_pred)\n",
        "# Calculate precision\n",
        "precision = precision_score(y_test1, y_test_pred)\n",
        "# Calculate recall (sensitivity)\n",
        "recall = recall_score(y_test1, y_test_pred)\n",
        "# Calculate specificity\n",
        "specificity = cm[0, 0] / (cm[0, 0] + cm[0, 1])\n",
        "# Calculate F1-score\n",
        "f1 = f1_score(y_test1, y_test_pred)\n",
        "\n",
        "# Print the results\n",
        "print(f\"Accuracy: {accuracy:.4f}\")\n",
        "print(f\"Precision: {precision:.4f}\")\n",
        "print(f\"Recall (Sensitivity): {recall:.4f}\")\n",
        "print(f\"Specificity: {specificity:.4f}\")\n",
        "print(f\"F1-score: {f1:.4f}\")"
      ],
      "metadata": {
        "id": "f0Q0SXKJfIwo"
      },
      "execution_count": null,
      "outputs": []
    },
    {
      "cell_type": "code",
      "execution_count": null,
      "metadata": {
        "id": "PMM5GY11CrJY"
      },
      "outputs": [],
      "source": [
        "from sklearn.metrics import roc_curve, auc, accuracy_score\n",
        "import matplotlib.pyplot as plt\n",
        "import tensorflow as tf\n",
        "import pandas as pd\n",
        "import numpy as np\n",
        "\n",
        "# Calcula el AUC y grafica la curva ROC\n",
        "def plot_roc_curve(y_true, y_scores, title=\"ROC Curve\"):\n",
        "    fpr, tpr, _ = roc_curve(y_true, y_scores)\n",
        "    roc_auc = auc(fpr, tpr)\n",
        "\n",
        "    plt.figure(figsize=(8, 6))\n",
        "    plt.plot(fpr, tpr, color='darkorange', lw=2, label=f'ROC curve (AUC = {roc_auc:.2f})')\n",
        "    plt.plot([0, 1], [0, 1], color='navy', lw=2, linestyle='--')\n",
        "    plt.xlim([0.0, 1.0])\n",
        "    plt.ylim([0.0, 1.05])\n",
        "    plt.xlabel('False Positive Rate')\n",
        "    plt.ylabel('True Positive Rate')\n",
        "    plt.title(title)\n",
        "    plt.legend(loc=\"lower right\")\n",
        "    plt.grid()\n",
        "    plt.show()\n",
        "    return roc_auc\n",
        "\n",
        "# Evaluar AUC en el conjunto de validación y graficar para la última iteración del cross-validation\n",
        "y_val_scores = best_model.predict(X_val).ravel()  # Probabilidades para el conjunto de validación\n",
        "auc_val = plot_roc_curve(y_val, y_val_scores, title=\"ROC Curve (Validation Set)\")\n",
        "\n",
        "# Evaluar AUC en el conjunto de prueba\n",
        "y_test_scores = best_model.predict(X_test1).ravel()  # Probabilidades para el conjunto de prueba\n",
        "auc_test = plot_roc_curve(y_test1, y_test_scores, title=\"ROC Curve (Test Set)\")\n",
        "\n",
        "print(f'Validation AUC: {auc_val:.2f}')\n",
        "print(f'Test AUC: {auc_test:.2f}')"
      ]
    },
    {
      "cell_type": "markdown",
      "metadata": {
        "id": "ShnC-QkddKcA"
      },
      "source": [
        "### ML Testing"
      ]
    },
    {
      "cell_type": "markdown",
      "metadata": {
        "id": "hBgQOZyBdMHs"
      },
      "source": [
        "#### Logistic Regression"
      ]
    },
    {
      "cell_type": "code",
      "execution_count": null,
      "metadata": {
        "id": "UWaYe0J0dBmK"
      },
      "outputs": [],
      "source": [
        "#Logistic Regression\n",
        "\n",
        "parameters = {'solver':['newton-cg','liblinear','sag','saga']}\n",
        "clf_lr = GridSearchCV(LogisticRegression(), parameters, cv=10,n_jobs=-1,verbose=4)\n",
        "clf_lr.fit(X_train, y_train)"
      ]
    },
    {
      "cell_type": "code",
      "execution_count": null,
      "metadata": {
        "id": "SY8yMeEJdNTl"
      },
      "outputs": [],
      "source": [
        "clf_lr.best_params_"
      ]
    },
    {
      "cell_type": "code",
      "execution_count": null,
      "metadata": {
        "id": "9TvN4JiwdNVa"
      },
      "outputs": [],
      "source": [
        "clf_lr.best_score_"
      ]
    },
    {
      "cell_type": "code",
      "execution_count": null,
      "metadata": {
        "id": "ShXfdgfBdhiT"
      },
      "outputs": [],
      "source": [
        "# Obtener todos los promedios de accuracy por combinación de parámetros\n",
        "all_mean_accuracies = clf_lr.cv_results_['mean_test_score']\n",
        "\n",
        "# Calcular el promedio general de esos promedios\n",
        "overall_cv_accuracy = all_mean_accuracies.mean()\n",
        "\n",
        "print(f\"Accuracy promedio total de todos los CVs: {overall_cv_accuracy:.4f}\")"
      ]
    },
    {
      "cell_type": "code",
      "execution_count": null,
      "metadata": {
        "id": "Fc_2h3TvdhkR"
      },
      "outputs": [],
      "source": [
        "clf_lr.cv_results_['mean_fit_time']"
      ]
    },
    {
      "cell_type": "code",
      "execution_count": null,
      "metadata": {
        "id": "DbLDYRfjdhmU"
      },
      "outputs": [],
      "source": [
        "total_fit_time = sum(clf_lr.cv_results_['mean_fit_time']) * 10\n",
        "print(f\"Tiempo estimado total de entrenamiento: {total_fit_time:.2f} segundos\")"
      ]
    },
    {
      "cell_type": "code",
      "execution_count": null,
      "metadata": {
        "id": "kvz7YguadkV2"
      },
      "outputs": [],
      "source": [
        "from sklearn.metrics import accuracy_score\n",
        "\n",
        "bestcm = confusion_matrix(y_train, clf_lr.best_estimator_.predict(X_train))\n",
        "best_accuracy = accuracy_score(y_train, clf_lr.best_estimator_.predict(X_train))\n",
        "best_precision = precision_score(y_train, clf_lr.best_estimator_.predict(X_train))\n",
        "bestrecall = recall_score(y_train, clf_lr.best_estimator_.predict(X_train))\n",
        "bestspecificity = bestcm[0, 0] / (bestcm[0, 0] + bestcm[0, 1])\n",
        "bestf1 = f1_score(y_train, clf_lr.best_estimator_.predict(X_train))\n",
        "auclr = round(metrics.roc_auc_score(y_train, clf_lr.best_estimator_.predict(X_train)), 4)\n",
        "\n",
        "print(f'Best Validation Accuracy: {best_accuracy * 100:.2f}%')\n",
        "print(f'Best Validation Precision: {best_precision * 100:.2f}%')\n",
        "print(f'Best Validation Recall: {bestrecall * 100:.2f}%') #sensitivity\n",
        "print(f'Best Validation Specificity: {bestspecificity * 100:.2f}%')\n",
        "print(f'Best Validation F1: {bestf1:.2f}')\n",
        "print(f'Best Validation AUC: {auclr:.2f}')"
      ]
    },
    {
      "cell_type": "code",
      "execution_count": null,
      "metadata": {
        "id": "W87x4WkqdkX-"
      },
      "outputs": [],
      "source": [
        "print(classification_report(y_train,clf_lr.best_estimator_.predict(X_train)))"
      ]
    },
    {
      "cell_type": "code",
      "execution_count": null,
      "metadata": {
        "id": "tlcTW7tRdkZ1"
      },
      "outputs": [],
      "source": [
        "# Visualize confusion matrix using seaborn\n",
        "sns.set(font_scale=1.2)\n",
        "plt.figure(figsize=(6, 6))\n",
        "sns.heatmap(bestcm, annot=True, fmt=\"d\", cmap=\"Blues\", cbar=False,\n",
        "            annot_kws={\"size\": 15}, xticklabels=['Predicted 0', 'Predicted 1'],\n",
        "            yticklabels=['Actual 0', 'Actual 1'])\n",
        "plt.xlabel('Predicted label')\n",
        "plt.ylabel('True label')\n",
        "\n",
        "plt.title('Confusion Matrix')\n",
        "\n",
        "# Save the plot to a file\n",
        "#plt.savefig('confusionmatrixLRTrain.png')\n",
        "\n",
        "plt.show()"
      ]
    },
    {
      "cell_type": "code",
      "execution_count": null,
      "metadata": {
        "id": "s7Bkm1K8dnh8"
      },
      "outputs": [],
      "source": [
        "# Guardar el mejor modelo\n",
        "joblib.dump(clf_lr.best_estimator_, 'mejor_modeloLR.pkl')"
      ]
    },
    {
      "cell_type": "code",
      "source": [
        "modeloLR = clf_lr.best_estimator_\n",
        "predictionslr = modeloLR.predict(X_test)\n",
        "targetlr=np.array(y_test)\n",
        "confusionlr = confusion_matrix(targetlr, predictionslr)\n",
        "print(confusionlr)"
      ],
      "metadata": {
        "id": "FvbuhpL_fU_T"
      },
      "execution_count": null,
      "outputs": []
    },
    {
      "cell_type": "code",
      "source": [
        "# Calculate confusion matrix\n",
        "cmlr = confusion_matrix(targetlr,predictionslr)\n",
        "# Calculate accuracy\n",
        "accuracylr = accuracy_score(targetlr,predictionslr)\n",
        "# Calculate precision\n",
        "precisionlr = precision_score(targetlr,predictionslr)\n",
        "# Calculate recall (sensitivity)\n",
        "recalllr = recall_score(targetlr,predictionslr)\n",
        "# Calculate specificity\n",
        "specificitylr = cmlr[0, 0] / (cmlr[0, 0] + cmlr[0, 1])\n",
        "# Calculate F1-score\n",
        "f1lr = f1_score(targetlr,predictionslr)\n",
        "\n",
        "# Print the results\n",
        "print(f\"Accuracy: {accuracylr:.4f}\")\n",
        "print(f\"Precision: {precisionlr:.4f}\")\n",
        "print(f\"Recall (Sensitivity): {recalllr:.4f}\")\n",
        "print(f\"Specificity: {specificitylr:.4f}\")\n",
        "print(f\"F1-score: {f1lr:.4f}\")"
      ],
      "metadata": {
        "id": "AFzscRoLfWyv"
      },
      "execution_count": null,
      "outputs": []
    },
    {
      "cell_type": "code",
      "source": [
        "print(classification_report(targetlr,predictionslr))"
      ],
      "metadata": {
        "id": "-8l32GzifX89"
      },
      "execution_count": null,
      "outputs": []
    },
    {
      "cell_type": "code",
      "source": [
        "# Visualize confusion matrix using seaborn\n",
        "sns.set(font_scale=1.2)\n",
        "plt.figure(figsize=(6, 6))\n",
        "sns.heatmap(confusionlr, annot=True, fmt=\"d\", cmap=\"Blues\", cbar=False,\n",
        "            annot_kws={\"size\": 15}, xticklabels=['Predicted 0', 'Predicted 1'],\n",
        "            yticklabels=['Actual 0', 'Actual 1'])\n",
        "plt.xlabel('Predicted label')\n",
        "plt.ylabel('True label')\n",
        "\n",
        "plt.title('Confusion Matrix')\n",
        "\n",
        "# Save the plot to a file\n",
        "#plt.savefig('confusionmatrixLRTest.png')\n",
        "\n",
        "plt.show()"
      ],
      "metadata": {
        "id": "d9as1phkfZGR"
      },
      "execution_count": null,
      "outputs": []
    },
    {
      "cell_type": "code",
      "execution_count": null,
      "metadata": {
        "id": "q9hwWFPVduj1"
      },
      "outputs": [],
      "source": [
        "#Train\n",
        "models_data2 = [\n",
        "    #(y_val, y_val_scores, 'purple', \"1D-CNN\"),\n",
        "    # Agregar más modelos si es necesario: (y_true, y_scores, color, nombre del modelo)\n",
        "    (y_train, clf_lr.best_estimator_.predict_proba(X_train)[:, 1], 'red', 'LR'),\n",
        "]\n",
        "\n",
        "plot_multi_roc_curves_with_ci(models_data2, title=\"ROC Curves\", label=\"a\")\n",
        "\n",
        "# Save the plot to a file\n",
        "#plt.savefig('CurvaROCLRTrain.png')\n",
        "\n",
        "plt.show()"
      ]
    },
    {
      "cell_type": "code",
      "execution_count": null,
      "metadata": {
        "id": "2ZSJh3UDdNXk"
      },
      "outputs": [],
      "source": [
        "#Test\n",
        "models_data2 = [\n",
        "    #(y_val, y_val_scores, 'purple', \"1D-CNN\"),\n",
        "    # Agregar más modelos si es necesario: (y_true, y_scores, color, nombre del modelo)\n",
        "    (targetlr, modeloLR.predict_proba(X_test)[:, 1], 'red', 'LR'),\n",
        "]\n",
        "\n",
        "plot_multi_roc_curves_with_ci(models_data2, title=\"ROC Curves\", label=\"a\")\n",
        "\n",
        "# Save the plot to a file\n",
        "#plt.savefig('CurvaROCLRTest.png')\n",
        "\n",
        "plt.show()"
      ]
    },
    {
      "cell_type": "markdown",
      "metadata": {
        "id": "BbFyq6GkeGct"
      },
      "source": [
        "#### ERT"
      ]
    },
    {
      "cell_type": "code",
      "execution_count": null,
      "metadata": {
        "id": "nsLgT5X1eGct"
      },
      "outputs": [],
      "source": [
        "param_grid = {\n",
        "    'n_estimators': [100, 200, 300],\n",
        "    'max_depth': [None, 10, 20, 30],\n",
        "    'max_features': ['sqrt', 'log2', None],\n",
        "    'min_samples_split': [2, 5, 10],\n",
        "    'min_samples_leaf': [1, 2, 4],\n",
        "    'bootstrap': [False, True],\n",
        "    'criterion': ['gini', 'entropy']\n",
        "}\n",
        "\n",
        "grid_search_ert = GridSearchCV(ExtraTreesClassifier(), param_grid, cv=10,n_jobs=-1,verbose=4)\n",
        "grid_search_ert.fit(X_train, y_train)"
      ]
    },
    {
      "cell_type": "code",
      "execution_count": null,
      "metadata": {
        "id": "KvJNLcQHeGcv"
      },
      "outputs": [],
      "source": [
        "grid_search_ert.best_params_"
      ]
    },
    {
      "cell_type": "code",
      "execution_count": null,
      "metadata": {
        "id": "ym0Pb_7JeGcv"
      },
      "outputs": [],
      "source": [
        "grid_search_ert.best_score_"
      ]
    },
    {
      "cell_type": "code",
      "execution_count": null,
      "metadata": {
        "id": "Yo1e01EFeGcw"
      },
      "outputs": [],
      "source": [
        "# Obtener todos los promedios de accuracy por combinación de parámetros\n",
        "all_mean_accuracies = grid_search_ert.cv_results_['mean_test_score']\n",
        "\n",
        "# Calcular el promedio general de esos promedios\n",
        "overall_cv_accuracy = all_mean_accuracies.mean()\n",
        "\n",
        "print(f\"Accuracy promedio total de todos los CVs: {overall_cv_accuracy:.4f}\")"
      ]
    },
    {
      "cell_type": "code",
      "execution_count": null,
      "metadata": {
        "id": "FqQk7ddieGcw"
      },
      "outputs": [],
      "source": [
        "grid_search_ert.cv_results_['mean_fit_time']"
      ]
    },
    {
      "cell_type": "code",
      "execution_count": null,
      "metadata": {
        "id": "049WelYweGcx"
      },
      "outputs": [],
      "source": [
        "total_fit_time = sum(grid_search_ert.cv_results_['mean_fit_time']) * 10\n",
        "print(f\"Tiempo estimado total de entrenamiento: {total_fit_time:.2f} segundos\")"
      ]
    },
    {
      "cell_type": "code",
      "execution_count": null,
      "metadata": {
        "id": "xH6jccm9eGcx"
      },
      "outputs": [],
      "source": [
        "bestcm = confusion_matrix(y_train, grid_search_ert.best_estimator_.predict(X_train))\n",
        "best_accuracy = accuracy_score(y_train, grid_search_ert.best_estimator_.predict(X_train))\n",
        "best_precision = precision_score(y_train, grid_search_ert.best_estimator_.predict(X_train))\n",
        "bestrecall = recall_score(y_train, grid_search_ert.best_estimator_.predict(X_train))\n",
        "bestspecificity = bestcm[0, 0] / (bestcm[0, 0] + bestcm[0, 1])\n",
        "bestf1 = f1_score(y_train, grid_search_ert.best_estimator_.predict(X_train))\n",
        "auclr = round(metrics.roc_auc_score(y_train, grid_search_ert.best_estimator_.predict(X_train)), 4)\n",
        "\n",
        "print(f'Best Validation Accuracy: {best_accuracy * 100:.2f}%')\n",
        "print(f'Best Validation Precision: {best_precision * 100:.2f}%')\n",
        "print(f'Best Validation Recall: {bestrecall * 100:.2f}%') #sensitivity\n",
        "print(f'Best Validation Specificity: {bestspecificity * 100:.2f}%')\n",
        "print(f'Best Validation F1: {bestf1:.2f}')\n",
        "print(f'Best Validation AUC: {auclr:.2f}')"
      ]
    },
    {
      "cell_type": "code",
      "execution_count": null,
      "metadata": {
        "id": "mth3_n4geGcy"
      },
      "outputs": [],
      "source": [
        "print(classification_report(y_train,grid_search_ert.best_estimator_.predict(X_train)))"
      ]
    },
    {
      "cell_type": "code",
      "execution_count": null,
      "metadata": {
        "id": "VAQ0wnpweGcy"
      },
      "outputs": [],
      "source": [
        "# Visualize confusion matrix using seaborn\n",
        "sns.set(font_scale=1.2)\n",
        "plt.figure(figsize=(6, 6))\n",
        "sns.heatmap(bestcm, annot=True, fmt=\"d\", cmap=\"Blues\", cbar=False,\n",
        "            annot_kws={\"size\": 15}, xticklabels=['Predicted 0', 'Predicted 1'],\n",
        "            yticklabels=['Actual 0', 'Actual 1'])\n",
        "plt.xlabel('Predicted label')\n",
        "plt.ylabel('True label')\n",
        "\n",
        "plt.title('Confusion Matrix')\n",
        "\n",
        "# Save the plot to a file\n",
        "plt.savefig('confusionmatrixERTTrain.png')\n",
        "\n",
        "plt.show()"
      ]
    },
    {
      "cell_type": "code",
      "execution_count": null,
      "metadata": {
        "id": "M0ZxXoG6eGcz"
      },
      "outputs": [],
      "source": [
        "# Guardar el mejor modelo\n",
        "joblib.dump(grid_search_ert.best_estimator_, 'mejor_modeloERT.pkl')"
      ]
    },
    {
      "cell_type": "code",
      "source": [
        "modeloERT = grid_search_ert.best_estimator_\n",
        "predictionsERT = modeloERT.predict(X_test)\n",
        "targetERT=np.array(y_test)\n",
        "confusionERT = confusion_matrix(targetERT, predictionsERT)\n",
        "print(confusionERT)"
      ],
      "metadata": {
        "id": "c9rlXTi3fqQD"
      },
      "execution_count": null,
      "outputs": []
    },
    {
      "cell_type": "code",
      "source": [
        "# Calculate confusion matrix\n",
        "cmERT = confusion_matrix(targetERT, predictionsERT)\n",
        "# Calculate accuracy\n",
        "accuracyERT = accuracy_score(targetERT, predictionsERT)\n",
        "# Calculate precision\n",
        "precisionERT = precision_score(targetERT, predictionsERT)\n",
        "# Calculate recall (sensitivity)\n",
        "recallERT = recall_score(targetERT, predictionsERT)\n",
        "# Calculate specificity\n",
        "specificityERT = cmERT[0, 0] / (cmERT[0, 0] + cmERT[0, 1])\n",
        "# Calculate F1-score\n",
        "f1ERT = f1_score(targetERT, predictionsERT)\n",
        "\n",
        "# Print the results\n",
        "print(f\"Accuracy: {accuracyERT:.4f}\")\n",
        "print(f\"Precision: {precisionERT:.4f}\")\n",
        "print(f\"Recall (Sensitivity): {recallERT:.4f}\")\n",
        "print(f\"Specificity: {specificityERT:.4f}\")\n",
        "print(f\"F1-score: {f1ERT:.4f}\")"
      ],
      "metadata": {
        "id": "vhs99ZytfrTy"
      },
      "execution_count": null,
      "outputs": []
    },
    {
      "cell_type": "code",
      "source": [
        "print(classification_report(targetERT,predictionsERT))"
      ],
      "metadata": {
        "id": "YqRAQ4k_fv2T"
      },
      "execution_count": null,
      "outputs": []
    },
    {
      "cell_type": "code",
      "source": [
        "# Visualize confusion matrix using seaborn\n",
        "sns.set(font_scale=1.2)\n",
        "plt.figure(figsize=(6, 6))\n",
        "sns.heatmap(confusionERT, annot=True, fmt=\"d\", cmap=\"Blues\", cbar=False,\n",
        "            annot_kws={\"size\": 15}, xticklabels=['Predicted 0', 'Predicted 1'],\n",
        "            yticklabels=['Actual 0', 'Actual 1'])\n",
        "plt.xlabel('Predicted label')\n",
        "plt.ylabel('True label')\n",
        "\n",
        "plt.title('Confusion Matrix')\n",
        "\n",
        "# Save the plot to a file\n",
        "#plt.savefig('confusionmatrixERTTest.png')\n",
        "\n",
        "plt.show()"
      ],
      "metadata": {
        "id": "cPdu7BblfzOV"
      },
      "execution_count": null,
      "outputs": []
    },
    {
      "cell_type": "code",
      "execution_count": null,
      "metadata": {
        "id": "Qd4o2QjheGc2"
      },
      "outputs": [],
      "source": [
        "#Train\n",
        "models_data2 = [\n",
        "    #(y_val, y_val_scores, 'purple', \"1D-CNN\"),\n",
        "    # Agregar más modelos si es necesario: (y_true, y_scores, color, nombre del modelo)\n",
        "    (y_train, grid_search_ert.best_estimator_.predict_proba(X_train)[:, 1], 'red', 'ERT'),\n",
        "]\n",
        "\n",
        "plot_multi_roc_curves_with_ci(models_data2, title=\"ROC Curves\", label=\"a\")\n",
        "\n",
        "# Save the plot to a file\n",
        "plt.savefig('CurvaROCERTTrain.png')\n",
        "\n",
        "plt.show()"
      ]
    },
    {
      "cell_type": "code",
      "execution_count": null,
      "metadata": {
        "id": "yg6HSmzneGc3"
      },
      "outputs": [],
      "source": [
        "#Test\n",
        "models_data2 = [\n",
        "    #(y_val, y_val_scores, 'purple', \"1D-CNN\"),\n",
        "    # Agregar más modelos si es necesario: (y_true, y_scores, color, nombre del modelo)\n",
        "    (targetERT, modeloERT.predict_proba(X_test)[:, 1], 'red', 'ERT'),\n",
        "]\n",
        "\n",
        "plot_multi_roc_curves_with_ci(models_data2, title=\"ROC Curves\", label=\"a\")\n",
        "\n",
        "# Save the plot to a file\n",
        "plt.savefig('CurvaROCERTTest.png')\n",
        "\n",
        "plt.show()"
      ]
    },
    {
      "cell_type": "markdown",
      "metadata": {
        "id": "nBu7rmQ4eGc4"
      },
      "source": [
        "#### Decision Trees"
      ]
    },
    {
      "cell_type": "code",
      "execution_count": null,
      "metadata": {
        "id": "geRx9rGCeGc6"
      },
      "outputs": [],
      "source": [
        "param_grid = {\n",
        "    'max_features': ['sqrt', 'log2', None],\n",
        "    'max_depth': [4, 5, 6, 7, 8, 9, 10, 11, 12],\n",
        "    'criterion': ['gini', 'entropy']\n",
        "}\n",
        "\n",
        "grid_searchdt = GridSearchCV(DecisionTreeClassifier(), param_grid, cv=10,n_jobs=-1,verbose=4)\n",
        "grid_searchdt.fit(X_train, y_train)"
      ]
    },
    {
      "cell_type": "code",
      "execution_count": null,
      "metadata": {
        "id": "oVkZG2D-eGc7"
      },
      "outputs": [],
      "source": [
        "grid_searchDT = grid_searchdt"
      ]
    },
    {
      "cell_type": "code",
      "execution_count": null,
      "metadata": {
        "id": "vq6fu_gdeGc7"
      },
      "outputs": [],
      "source": [
        "grid_searchDT.best_score_"
      ]
    },
    {
      "cell_type": "code",
      "execution_count": null,
      "metadata": {
        "id": "aq20-XuAeGc8"
      },
      "outputs": [],
      "source": [
        "grid_searchDT.best_params_"
      ]
    },
    {
      "cell_type": "code",
      "execution_count": null,
      "metadata": {
        "id": "2wlUcfe9eGc_"
      },
      "outputs": [],
      "source": [
        "# Obtener todos los promedios de accuracy por combinación de parámetros\n",
        "all_mean_accuracies = grid_searchDT.cv_results_['mean_test_score']\n",
        "\n",
        "# Calcular el promedio general de esos promedios\n",
        "overall_cv_accuracy = all_mean_accuracies.mean()\n",
        "\n",
        "print(f\"Accuracy promedio total de todos los CVs: {overall_cv_accuracy:.4f}\")"
      ]
    },
    {
      "cell_type": "code",
      "execution_count": null,
      "metadata": {
        "id": "Vc6NMz9IeGc_"
      },
      "outputs": [],
      "source": [
        "grid_searchDT.cv_results_['mean_fit_time']"
      ]
    },
    {
      "cell_type": "code",
      "execution_count": null,
      "metadata": {
        "id": "dUnkzNxKeGc_"
      },
      "outputs": [],
      "source": [
        "total_fit_time = sum(grid_searchDT.cv_results_['mean_fit_time']) * 10\n",
        "print(f\"Tiempo estimado total de entrenamiento: {total_fit_time:.2f} segundos\")"
      ]
    },
    {
      "cell_type": "code",
      "execution_count": null,
      "metadata": {
        "id": "h5fWJ3PveGdA"
      },
      "outputs": [],
      "source": [
        "bestcm = confusion_matrix(y_train, grid_searchDT.best_estimator_.predict(X_train))\n",
        "best_accuracy = accuracy_score(y_train, grid_searchDT.best_estimator_.predict(X_train))\n",
        "best_precision = precision_score(y_train, grid_searchDT.best_estimator_.predict(X_train))\n",
        "bestrecall = recall_score(y_train, grid_searchDT.best_estimator_.predict(X_train))\n",
        "bestspecificity = bestcm[0, 0] / (bestcm[0, 0] + bestcm[0, 1])\n",
        "bestf1 = f1_score(y_train, grid_searchDT.best_estimator_.predict(X_train))\n",
        "aucrf = round(metrics.roc_auc_score(y_train, grid_searchDT.best_estimator_.predict(X_train)), 4)\n",
        "\n",
        "print(f'Best Validation Accuracy: {best_accuracy * 100:.2f}%')\n",
        "print(f'Best Validation Precision: {best_precision * 100:.2f}%')\n",
        "print(f'Best Validation Recall: {bestrecall * 100:.2f}%')\n",
        "print(f'Best Validation Specificity: {bestspecificity * 100:.2f}%')\n",
        "print(f'Best Validation F1: {bestf1:.2f}%')\n",
        "print(f'Best Validation AUC: {aucrf:.2f}')"
      ]
    },
    {
      "cell_type": "code",
      "execution_count": null,
      "metadata": {
        "id": "-nqYlSrLeGdA"
      },
      "outputs": [],
      "source": [
        "print(classification_report(y_train,grid_searchDT.best_estimator_.predict(X_train)))"
      ]
    },
    {
      "cell_type": "code",
      "execution_count": null,
      "metadata": {
        "id": "f1SLKDqLeGdB"
      },
      "outputs": [],
      "source": [
        "# Visualize confusion matrix using seaborn\n",
        "sns.set(font_scale=1.2)\n",
        "plt.figure(figsize=(6, 6))\n",
        "sns.heatmap(bestcm, annot=True, fmt=\"d\", cmap=\"Blues\", cbar=False,\n",
        "            annot_kws={\"size\": 15}, xticklabels=['Predicted 0', 'Predicted 1'],\n",
        "            yticklabels=['Actual 0', 'Actual 1'])\n",
        "plt.xlabel('Predicted label')\n",
        "plt.ylabel('True label')\n",
        "\n",
        "plt.title('Confusion Matrix')\n",
        "\n",
        "# Save the plot to a file\n",
        "#plt.savefig('confusionmatrixDTTrain.png')\n",
        "\n",
        "plt.show()"
      ]
    },
    {
      "cell_type": "code",
      "execution_count": null,
      "metadata": {
        "id": "n_3VPrCCeGdB"
      },
      "outputs": [],
      "source": [
        "# Guardar el mejor modelo\n",
        "joblib.dump(grid_searchDT.best_estimator_, 'mejor_modeloDT.pkl')"
      ]
    },
    {
      "cell_type": "code",
      "source": [
        "modeloDT = grid_searchDT.best_estimator_\n",
        "predictionsDT = modeloDT.predict(X_test)\n",
        "targetDT=np.array(y_test)\n",
        "confusionDT = confusion_matrix(targetDT, predictionsDT)\n",
        "print(confusionDT)"
      ],
      "metadata": {
        "id": "faRL_lpPf3vS"
      },
      "execution_count": null,
      "outputs": []
    },
    {
      "cell_type": "code",
      "source": [
        "# Calculate confusion matrix\n",
        "cmDT = confusion_matrix(targetDT,predictionsDT)\n",
        "# Calculate accuracy\n",
        "accuracyDT = accuracy_score(targetDT,predictionsDT)\n",
        "# Calculate precision\n",
        "precisionDT = precision_score(targetDT,predictionsDT)\n",
        "# Calculate recall (sensitivity)\n",
        "recallDT = recall_score(targetDT,predictionsDT)\n",
        "# Calculate specificity\n",
        "specificityDT = cmDT[0, 0] / (cmDT[0, 0] + cmDT[0, 1])\n",
        "# Calculate F1-score\n",
        "f1DT = f1_score(targetDT,predictionsDT)\n",
        "\n",
        "# Print the results\n",
        "print(f\"Accuracy: {accuracyDT:.4f}\")\n",
        "print(f\"Precision: {precisionDT:.4f}\")\n",
        "print(f\"Recall (Sensitivity): {recallDT:.4f}\")\n",
        "print(f\"Specificity: {specificityDT:.4f}\")\n",
        "print(f\"F1-score: {f1DT:.4f}\")"
      ],
      "metadata": {
        "id": "pXxpxVHRf43o"
      },
      "execution_count": null,
      "outputs": []
    },
    {
      "cell_type": "code",
      "source": [
        "print(classification_report(targetDT,predictionsDT))"
      ],
      "metadata": {
        "id": "Nq9xPIlVf54u"
      },
      "execution_count": null,
      "outputs": []
    },
    {
      "cell_type": "code",
      "source": [
        "# Visualize confusion matrix using seaborn\n",
        "sns.set(font_scale=1.2)\n",
        "plt.figure(figsize=(6, 6))\n",
        "sns.heatmap(confusionDT, annot=True, fmt=\"d\", cmap=\"Blues\", cbar=False,\n",
        "            annot_kws={\"size\": 15}, xticklabels=['Predicted 0', 'Predicted 1'],\n",
        "            yticklabels=['Actual 0', 'Actual 1'])\n",
        "plt.xlabel('Predicted label')\n",
        "plt.ylabel('True label')\n",
        "\n",
        "plt.title('Confusion Matrix')\n",
        "\n",
        "# Save the plot to a file\n",
        "#plt.savefig('confusionmatrixDTTest.png')\n",
        "\n",
        "plt.show()"
      ],
      "metadata": {
        "id": "fu-LZr2cf60c"
      },
      "execution_count": null,
      "outputs": []
    },
    {
      "cell_type": "code",
      "execution_count": null,
      "metadata": {
        "id": "boejU93weGdE"
      },
      "outputs": [],
      "source": [
        "#Train\n",
        "models_data2 = [\n",
        "    #(y_val, y_val_scores, 'purple', \"1D-CNN\"),\n",
        "    # Agregar más modelos si es necesario: (y_true, y_scores, color, nombre del modelo)\n",
        "    (y_train, grid_searchDT.best_estimator_.predict_proba(X_train)[:, 1], 'red', 'DT'),\n",
        "]\n",
        "\n",
        "plot_multi_roc_curves_with_ci(models_data2, title=\"ROC Curves\", label=\"a\")\n",
        "\n",
        "# Save the plot to a file\n",
        "#plt.savefig('CurvaROCDTTrain.png')\n",
        "\n",
        "plt.show()"
      ]
    },
    {
      "cell_type": "code",
      "execution_count": null,
      "metadata": {
        "id": "vJpoZE0leGdF"
      },
      "outputs": [],
      "source": [
        "#Test\n",
        "models_data2 = [\n",
        "    #(y_val, y_val_scores, 'purple', \"1D-CNN\"),\n",
        "    # Agregar más modelos si es necesario: (y_true, y_scores, color, nombre del modelo)\n",
        "    (targetDT, modeloDT.predict_proba(X_test)[:, 1], 'red', 'DT'),\n",
        "]\n",
        "\n",
        "plot_multi_roc_curves_with_ci(models_data2, title=\"ROC Curves\", label=\"a\")\n",
        "\n",
        "# Save the plot to a file\n",
        "#plt.savefig('CurvaROCDTTest.png')\n",
        "\n",
        "plt.show()"
      ]
    },
    {
      "cell_type": "markdown",
      "metadata": {
        "id": "F7HRL0VWd5oN"
      },
      "source": [
        "#### Random Forest"
      ]
    },
    {
      "cell_type": "code",
      "execution_count": null,
      "metadata": {
        "id": "PNwpxJQod5Fm"
      },
      "outputs": [],
      "source": [
        "param_grid = {\n",
        "    'n_estimators': [100,110,120,130,140,150,160,170,180,190,200],\n",
        "    'max_features': ['sqrt', 'log2'],\n",
        "    'max_depth' : [4,5,6,7,8,9,10,11,12],\n",
        "    'criterion' :['gini', 'entropy']\n",
        "}\n",
        "\n",
        "grid_searchRF = GridSearchCV(RandomForestClassifier(), param_grid, cv=10,n_jobs=-1,verbose=4)\n",
        "grid_searchRF.fit(X_train, y_train)"
      ]
    },
    {
      "cell_type": "code",
      "execution_count": null,
      "metadata": {
        "id": "kRkFCZPHd5Hr"
      },
      "outputs": [],
      "source": [
        "grid_searchRF.best_score_"
      ]
    },
    {
      "cell_type": "code",
      "execution_count": null,
      "metadata": {
        "id": "_GCX9ztmd5JX"
      },
      "outputs": [],
      "source": [
        "grid_searchRF.best_params_"
      ]
    },
    {
      "cell_type": "code",
      "execution_count": null,
      "metadata": {
        "id": "1NQLsW4sd5Li"
      },
      "outputs": [],
      "source": [
        "# Obtener todos los promedios de accuracy por combinación de parámetros\n",
        "all_mean_accuracies = grid_searchRF.cv_results_['mean_test_score']\n",
        "\n",
        "# Calcular el promedio general de esos promedios\n",
        "overall_cv_accuracy = all_mean_accuracies.mean()\n",
        "\n",
        "print(f\"Accuracy promedio total de todos los CVs: {overall_cv_accuracy:.4f}\")"
      ]
    },
    {
      "cell_type": "code",
      "execution_count": null,
      "metadata": {
        "id": "WpHUx_tMd5Nv",
        "scrolled": true
      },
      "outputs": [],
      "source": [
        "grid_searchRF.cv_results_['mean_fit_time']"
      ]
    },
    {
      "cell_type": "code",
      "execution_count": null,
      "metadata": {
        "id": "GEHUD8Wyd5Pz"
      },
      "outputs": [],
      "source": [
        "total_fit_time = sum(grid_searchRF.cv_results_['mean_fit_time']) * 10\n",
        "print(f\"Tiempo estimado total de entrenamiento: {total_fit_time:.2f} segundos\")"
      ]
    },
    {
      "cell_type": "code",
      "execution_count": null,
      "metadata": {
        "id": "LuTU_br-d5R3"
      },
      "outputs": [],
      "source": [
        "bestrf = confusion_matrix(y_train, grid_searchRF.best_estimator_.predict(X_train))\n",
        "best_accuracy = accuracy_score(y_train, grid_searchRF.best_estimator_.predict(X_train))\n",
        "best_precision = precision_score(y_train, grid_searchRF.best_estimator_.predict(X_train))\n",
        "bestrecall = recall_score(y_train, grid_searchRF.best_estimator_.predict(X_train))\n",
        "bestspecificity = bestrf[0, 0] / (bestrf[0, 0] + bestrf[0, 1])\n",
        "bestf1 = f1_score(y_train, grid_searchRF.best_estimator_.predict(X_train))\n",
        "aucrf = round(metrics.roc_auc_score(y_train, grid_searchRF.best_estimator_.predict(X_train)), 4)\n",
        "\n",
        "print(f'Best Validation Accuracy: {best_accuracy * 100:.2f}%')\n",
        "print(f'Best Validation Precision: {best_precision * 100:.2f}%')\n",
        "print(f'Best Validation Recall: {bestrecall * 100:.2f}%')\n",
        "print(f'Best Validation Specificity: {bestspecificity * 100:.2f}%')\n",
        "print(f'Best Validation F1: {bestf1:.2f}%')\n",
        "print(f'Best Validation AUC: {aucrf:.2f}')"
      ]
    },
    {
      "cell_type": "code",
      "execution_count": null,
      "metadata": {
        "id": "AyRq8kE7d5UE"
      },
      "outputs": [],
      "source": [
        "print(classification_report(y_train,grid_searchRF.best_estimator_.predict(X_train)))"
      ]
    },
    {
      "cell_type": "code",
      "execution_count": null,
      "metadata": {
        "id": "utMSwuMWee74"
      },
      "outputs": [],
      "source": [
        "# Visualize confusion matrix using seaborn\n",
        "sns.set(font_scale=1.2)\n",
        "plt.figure(figsize=(6, 6))\n",
        "sns.heatmap(bestrf, annot=True, fmt=\"d\", cmap=\"Blues\", cbar=False,\n",
        "            annot_kws={\"size\": 15}, xticklabels=['Predicted 0', 'Predicted 1'],\n",
        "            yticklabels=['Actual 0', 'Actual 1'])\n",
        "plt.xlabel('Predicted label')\n",
        "plt.ylabel('True label')\n",
        "\n",
        "plt.title('Confusion Matrix')\n",
        "\n",
        "# Save the plot to a file\n",
        "#plt.savefig('confusionmatrixRFTrain.png')\n",
        "\n",
        "plt.show()"
      ]
    },
    {
      "cell_type": "code",
      "execution_count": null,
      "metadata": {
        "id": "DUfwX5HJee9l"
      },
      "outputs": [],
      "source": [
        "# Guardar el mejor modelo\n",
        "joblib.dump(grid_searchRF.best_estimator_, 'mejor_modeloRF.pkl')"
      ]
    },
    {
      "cell_type": "code",
      "source": [
        "modeloRF = grid_searchRF.best_estimator_\n",
        "predictionsRF = modeloRF.predict(X_test)\n",
        "targetRF=np.array(y_test)\n",
        "confusionRF = confusion_matrix(targetRF, predictionsRF)\n",
        "print(confusionRF)"
      ],
      "metadata": {
        "id": "Wya2NIsCf_ek"
      },
      "execution_count": null,
      "outputs": []
    },
    {
      "cell_type": "code",
      "source": [
        "# Calculate confusion matrix\n",
        "cmRF = confusion_matrix(targetRF,predictionsRF)\n",
        "# Calculate accuracy\n",
        "accuracyRF = accuracy_score(targetRF,predictionsRF)\n",
        "# Calculate precision\n",
        "precisionRF = precision_score(targetRF,predictionsRF)\n",
        "# Calculate recall (sensitivity)\n",
        "recallRF = recall_score(targetRF,predictionsRF)\n",
        "# Calculate specificity\n",
        "specificityRF = cmRF[0, 0] / (cmRF[0, 0] + cmRF[0, 1])\n",
        "# Calculate F1-score\n",
        "f1RF = f1_score(targetRF,predictionsRF)\n",
        "\n",
        "# Print the results\n",
        "print(f\"Accuracy: {accuracyRF:.4f}\")\n",
        "print(f\"Precision: {precisionRF:.4f}\")\n",
        "print(f\"Recall (Sensitivity): {recallRF:.4f}\")\n",
        "print(f\"Specificity: {specificityRF:.4f}\")\n",
        "print(f\"F1-score: {f1RF:.4f}\")"
      ],
      "metadata": {
        "id": "0JLkkL1AgA0P"
      },
      "execution_count": null,
      "outputs": []
    },
    {
      "cell_type": "code",
      "source": [
        "print(classification_report(targetRF,predictionsRF))"
      ],
      "metadata": {
        "id": "FGm3TCYTgB1I"
      },
      "execution_count": null,
      "outputs": []
    },
    {
      "cell_type": "code",
      "source": [
        "# Visualize confusion matrix using seaborn\n",
        "sns.set(font_scale=1.2)\n",
        "plt.figure(figsize=(6, 6))\n",
        "sns.heatmap(confusionRF, annot=True, fmt=\"d\", cmap=\"Blues\", cbar=False,\n",
        "            annot_kws={\"size\": 15}, xticklabels=['Predicted 0', 'Predicted 1'],\n",
        "            yticklabels=['Actual 0', 'Actual 1'])\n",
        "plt.xlabel('Predicted label')\n",
        "plt.ylabel('True label')\n",
        "\n",
        "plt.title('Confusion Matrix')\n",
        "\n",
        "# Save the plot to a file\n",
        "#plt.savefig('confusionmatrixRFTest.png')\n",
        "\n",
        "plt.show()"
      ],
      "metadata": {
        "id": "f2ZkSeZSgC0e"
      },
      "execution_count": null,
      "outputs": []
    },
    {
      "cell_type": "code",
      "execution_count": null,
      "metadata": {
        "id": "v-os9nCzejep"
      },
      "outputs": [],
      "source": [
        "#Train\n",
        "models_data2 = [\n",
        "    #(y_val, y_val_scores, 'purple', \"1D-CNN\"),\n",
        "    # Agregar más modelos si es necesario: (y_true, y_scores, color, nombre del modelo)\n",
        "    (y_train, grid_searchRF.best_estimator_.predict_proba(X_train)[:, 1], 'red', 'RF'),\n",
        "]\n",
        "\n",
        "plot_multi_roc_curves_with_ci(models_data2, title=\"ROC Curves\", label=\"a\")\n",
        "\n",
        "# Save the plot to a file\n",
        "#plt.savefig('CurvaROCRFTrain.png')\n",
        "\n",
        "plt.show()"
      ]
    },
    {
      "cell_type": "code",
      "execution_count": null,
      "metadata": {
        "id": "53FFQQ6Bejgm"
      },
      "outputs": [],
      "source": [
        "#Test\n",
        "models_data2 = [\n",
        "    #(y_val, y_val_scores, 'purple', \"1D-CNN\"),\n",
        "    # Agregar más modelos si es necesario: (y_true, y_scores, color, nombre del modelo)\n",
        "    (targetRF, modeloRF.predict_proba(X_test)[:, 1], 'red', 'RF'),\n",
        "]\n",
        "\n",
        "plot_multi_roc_curves_with_ci(models_data2, title=\"ROC Curves\", label=\"a\")\n",
        "\n",
        "# Save the plot to a file\n",
        "#plt.savefig('CurvaROCRFTest.png')\n",
        "\n",
        "plt.show()"
      ]
    },
    {
      "cell_type": "markdown",
      "metadata": {
        "id": "FClyyO0fgWcS"
      },
      "source": [
        "#### ANN"
      ]
    },
    {
      "cell_type": "code",
      "execution_count": null,
      "metadata": {
        "id": "p7iHPDiegT0r"
      },
      "outputs": [],
      "source": [
        "parameters = {'max_iter': [250,500,750,1000], 'hidden_layer_sizes': np.arange(2,25,1), 'momentum':[0.4,0.5,0.6,0.7,0.8,0.9],'learning_rate_init':[0.1,0.5,0.01]}\n",
        "\n",
        "clf_RNA = GridSearchCV(MLPClassifier(), parameters, cv=10,n_jobs=-1,verbose=4)\n",
        "clf_RNA.fit(X_train, y_train)"
      ]
    },
    {
      "cell_type": "code",
      "execution_count": null,
      "metadata": {
        "id": "JUlX2jZchNjb"
      },
      "outputs": [],
      "source": [
        "clf_RNA.best_params_"
      ]
    },
    {
      "cell_type": "code",
      "execution_count": null,
      "metadata": {
        "id": "xrRfFG4mhNlC"
      },
      "outputs": [],
      "source": [
        "clf_RNA.best_score_"
      ]
    },
    {
      "cell_type": "code",
      "execution_count": null,
      "metadata": {
        "id": "mymiwJydhNnH"
      },
      "outputs": [],
      "source": [
        "# Obtener todos los promedios de accuracy por combinación de parámetros\n",
        "all_mean_accuracies = clf_RNA.cv_results_['mean_test_score']\n",
        "\n",
        "# Calcular el promedio general de esos promedios\n",
        "overall_cv_accuracy = all_mean_accuracies.mean()\n",
        "\n",
        "print(f\"Accuracy promedio total de todos los CVs: {overall_cv_accuracy:.4f}\")"
      ]
    },
    {
      "cell_type": "code",
      "execution_count": null,
      "metadata": {
        "id": "xOZ8VqlMhTkv"
      },
      "outputs": [],
      "source": [
        "clf_RNA.cv_results_['mean_fit_time']"
      ]
    },
    {
      "cell_type": "code",
      "execution_count": null,
      "metadata": {
        "id": "UNmiVybQhTmr"
      },
      "outputs": [],
      "source": [
        "total_fit_time = sum(clf_RNA.cv_results_['mean_fit_time']) * 10\n",
        "print(f\"Tiempo estimado total de entrenamiento: {total_fit_time:.2f} segundos\")"
      ]
    },
    {
      "cell_type": "code",
      "execution_count": null,
      "metadata": {
        "id": "caYGrhjIhVRS"
      },
      "outputs": [],
      "source": [
        "bestann = confusion_matrix(y_train, clf_RNA.best_estimator_.predict(X_train))\n",
        "best_accuracy = accuracy_score(y_train, clf_RNA.best_estimator_.predict(X_train))\n",
        "best_precision = precision_score(y_train, clf_RNA.best_estimator_.predict(X_train))\n",
        "bestrecall = recall_score(y_train, clf_RNA.best_estimator_.predict(X_train))\n",
        "bestspecificity = bestann[0, 0] / (bestann[0, 0] + bestann[0, 1])\n",
        "bestf1 = f1_score(y_train, clf_RNA.best_estimator_.predict(X_train))\n",
        "auclr = round(metrics.roc_auc_score(y_train, clf_RNA.best_estimator_.predict(X_train)), 4)\n",
        "\n",
        "print(f'Best Validation Accuracy: {best_accuracy * 100:.2f}%')\n",
        "print(f'Best Validation Precision: {best_precision * 100:.2f}%')\n",
        "print(f'Best Validation Recall: {bestrecall * 100:.2f}%') #sensitivity\n",
        "print(f'Best Validation Specificity: {bestspecificity * 100:.2f}%')\n",
        "print(f'Best Validation F1: {bestf1:.2f}')\n",
        "print(f'Best Validation AUC: {auclr:.2f}')"
      ]
    },
    {
      "cell_type": "code",
      "execution_count": null,
      "metadata": {
        "id": "7P2pENMFhTo_"
      },
      "outputs": [],
      "source": [
        "print(classification_report(y_train,clf_RNA.best_estimator_.predict(X_train)))"
      ]
    },
    {
      "cell_type": "code",
      "execution_count": null,
      "metadata": {
        "id": "fcAEqSZ2hNon"
      },
      "outputs": [],
      "source": [
        "# Visualize confusion matrix using seaborn\n",
        "sns.set(font_scale=1.2)\n",
        "plt.figure(figsize=(6, 6))\n",
        "sns.heatmap(bestcm, annot=True, fmt=\"d\", cmap=\"Blues\", cbar=False,\n",
        "            annot_kws={\"size\": 15}, xticklabels=['Predicted 0', 'Predicted 1'],\n",
        "            yticklabels=['Actual 0', 'Actual 1'])\n",
        "plt.xlabel('Predicted label')\n",
        "plt.ylabel('True label')\n",
        "\n",
        "plt.title('Confusion Matrix')\n",
        "\n",
        "# Save the plot to a file\n",
        "#plt.savefig('confusionmatrixANNTrain.png')\n",
        "\n",
        "plt.show()"
      ]
    },
    {
      "cell_type": "code",
      "execution_count": null,
      "metadata": {
        "id": "2aeVGkSChNqy"
      },
      "outputs": [],
      "source": [
        "# Guardar el mejor modelo\n",
        "joblib.dump(clf_RNA.best_estimator_, 'mejor_modeloANN.pkl')"
      ]
    },
    {
      "cell_type": "code",
      "source": [
        "modelNN = clf_RNA.best_estimator_\n",
        "predictionsANN = modelNN.predict(X_test)\n",
        "targetANN=np.array(y_test)\n",
        "confusionANN = confusion_matrix(targetANN, predictionsANN)\n",
        "print(confusionANN)"
      ],
      "metadata": {
        "id": "T0sthx34gJjj"
      },
      "execution_count": null,
      "outputs": []
    },
    {
      "cell_type": "code",
      "source": [
        "# Calculate confusion matrix\n",
        "cmAN = confusion_matrix(targetANN,predictionsANN)\n",
        "# Calculate accuracy\n",
        "accuracyAN = accuracy_score(targetANN,predictionsANN)\n",
        "# Calculate precision\n",
        "precisionAN = precision_score(targetANN,predictionsANN)\n",
        "# Calculate recall (sensitivity)\n",
        "recallAN= recall_score(targetANN,predictionsANN)\n",
        "# Calculate specificity\n",
        "specificityAN = cmAN[0, 0] / (cmAN[0, 0] + cmAN[0, 1])\n",
        "# Calculate F1-score\n",
        "f1AN = f1_score(targetANN,predictionsANN)\n",
        "\n",
        "# Print the results\n",
        "print(f\"Accuracy: {accuracyAN:.4f}\")\n",
        "print(f\"Precision: {precisionAN:.4f}\")\n",
        "print(f\"Recall (Sensitivity): {recallAN:.4f}\")\n",
        "print(f\"Specificity: {specificityAN:.4f}\")\n",
        "print(f\"F1-score: {f1AN:.4f}\")"
      ],
      "metadata": {
        "id": "RARJhOYRgKuT"
      },
      "execution_count": null,
      "outputs": []
    },
    {
      "cell_type": "code",
      "source": [
        "print(classification_report(targetANN,predictionsANN))"
      ],
      "metadata": {
        "id": "IdScNe5YgLs0"
      },
      "execution_count": null,
      "outputs": []
    },
    {
      "cell_type": "code",
      "source": [
        "# Visualize confusion matrix using seaborn\n",
        "sns.set(font_scale=1.2)\n",
        "plt.figure(figsize=(6, 6))\n",
        "sns.heatmap(confusionANN, annot=True, fmt=\"d\", cmap=\"Blues\", cbar=False,\n",
        "            annot_kws={\"size\": 15}, xticklabels=['Predicted 0', 'Predicted 1'],\n",
        "            yticklabels=['Actual 0', 'Actual 1'])\n",
        "plt.xlabel('Predicted label')\n",
        "plt.ylabel('True label')\n",
        "\n",
        "plt.title('Confusion Matrix')\n",
        "\n",
        "# Save the plot to a file\n",
        "#plt.savefig('confusionmatrixANNTest.png')\n",
        "\n",
        "plt.show()"
      ],
      "metadata": {
        "id": "IzpHJz3DgMvz"
      },
      "execution_count": null,
      "outputs": []
    },
    {
      "cell_type": "code",
      "execution_count": null,
      "metadata": {
        "id": "JiQjQ_DOhcFb"
      },
      "outputs": [],
      "source": [
        "#Train\n",
        "models_data2 = [\n",
        "    #(y_val, y_val_scores, 'purple', \"1D-CNN\"),\n",
        "    # Agregar más modelos si es necesario: (y_true, y_scores, color, nombre del modelo)\n",
        "    (y_train, clf_RNA.best_estimator_.predict_proba(X_train)[:, 1], 'red', 'ANN'),\n",
        "]\n",
        "\n",
        "plot_multi_roc_curves_with_ci(models_data2, title=\"ROC Curves\", label=\"a\")\n",
        "\n",
        "# Save the plot to a file\n",
        "#plt.savefig('CurvaROCANNTrain.png')\n",
        "\n",
        "plt.show()"
      ]
    },
    {
      "cell_type": "code",
      "execution_count": null,
      "metadata": {
        "id": "r04JKVr9gYZt"
      },
      "outputs": [],
      "source": [
        "#Test\n",
        "models_data2 = [\n",
        "    #(y_val, y_val_scores, 'purple', \"1D-CNN\"),\n",
        "    # Agregar más modelos si es necesario: (y_true, y_scores, color, nombre del modelo)\n",
        "    (targetlr, clf_RNA.predict_proba(X_test)[:, 1], 'red', 'ANN'),\n",
        "]\n",
        "\n",
        "plot_multi_roc_curves_with_ci(models_data2, title=\"ROC Curves\", label=\"a\")\n",
        "\n",
        "# Save the plot to a file\n",
        "#plt.savefig('CurvaROCANNTest.png')\n",
        "\n",
        "plt.show()"
      ]
    },
    {
      "cell_type": "markdown",
      "metadata": {
        "id": "M7VEYkn5eGeP"
      },
      "source": [
        "#### SVC"
      ]
    },
    {
      "cell_type": "code",
      "execution_count": null,
      "metadata": {
        "id": "gDyOR4XAeGeQ"
      },
      "outputs": [],
      "source": [
        "from sklearn.svm import SVC\n",
        "\n",
        "# Hiperparámetros más amplios y refinados\n",
        "parameters = {\n",
        "    'C': [0.01, 0.1, 1, 10],                 # Regularización: más valores grandes y pequeños\n",
        "    'gamma': [0.001, 0.01, 0.1],  # Escalas automáticas + numéricos\n",
        "    'kernel': ['linear', 'rbf']            # Se añade 'poly' si hay relaciones no lineales\n",
        "}\n",
        "\n",
        "clf_svm = GridSearchCV(SVC(probability=True), parameters, cv=10,n_jobs=-1,verbose=4)\n",
        "clf_svm.fit(X_train, y_train)"
      ]
    },
    {
      "cell_type": "code",
      "execution_count": null,
      "metadata": {
        "id": "wXahztDPeGeQ"
      },
      "outputs": [],
      "source": [
        "clf_svm.best_params_"
      ]
    },
    {
      "cell_type": "code",
      "execution_count": null,
      "metadata": {
        "id": "HlkoAm-QeGeQ"
      },
      "outputs": [],
      "source": [
        "clf_svm.best_score_"
      ]
    },
    {
      "cell_type": "code",
      "execution_count": null,
      "metadata": {
        "id": "-U9WKmD4eGeR"
      },
      "outputs": [],
      "source": [
        "# Obtener todos los promedios de accuracy por combinación de parámetros\n",
        "all_mean_accuracies = clf_svm.cv_results_['mean_test_score']\n",
        "\n",
        "# Calcular el promedio general de esos promedios\n",
        "overall_cv_accuracy = all_mean_accuracies.mean()\n",
        "\n",
        "print(f\"Accuracy promedio total de todos los CVs: {overall_cv_accuracy:.4f}\")"
      ]
    },
    {
      "cell_type": "code",
      "execution_count": null,
      "metadata": {
        "id": "5x9MnJmCeGeR"
      },
      "outputs": [],
      "source": [
        "clf_svm.cv_results_['mean_fit_time']"
      ]
    },
    {
      "cell_type": "code",
      "execution_count": null,
      "metadata": {
        "id": "dEa6GfyheGeR"
      },
      "outputs": [],
      "source": [
        "total_fit_time = sum(clf_svm.cv_results_['mean_fit_time']) * 10\n",
        "print(f\"Tiempo estimado total de entrenamiento: {total_fit_time:.2f} segundos\")"
      ]
    },
    {
      "cell_type": "code",
      "execution_count": null,
      "metadata": {
        "id": "ESYaJuXPeGeS"
      },
      "outputs": [],
      "source": [
        "bestsvc = confusion_matrix(y_train, clf_svm.best_estimator_.predict(X_train))\n",
        "best_accuracy = accuracy_score(y_train, clf_svm.best_estimator_.predict(X_train))\n",
        "best_precision = precision_score(y_train, clf_svm.best_estimator_.predict(X_train))\n",
        "bestrecall = recall_score(y_train, clf_svm.best_estimator_.predict(X_train))\n",
        "bestspecificity = bestsvc[0, 0] / (bestsvc[0, 0] + bestsvc[0, 1])\n",
        "bestf1 = f1_score(y_train, clf_svm.best_estimator_.predict(X_train))\n",
        "auclr = round(metrics.roc_auc_score(y_train, clf_svm.best_estimator_.predict(X_train)), 4)\n",
        "\n",
        "print(f'Best Validation Accuracy: {best_accuracy * 100:.2f}%')\n",
        "print(f'Best Validation Precision: {best_precision * 100:.2f}%')\n",
        "print(f'Best Validation Recall: {bestrecall * 100:.2f}%') #sensitivity\n",
        "print(f'Best Validation Specificity: {bestspecificity * 100:.2f}%')\n",
        "print(f'Best Validation F1: {bestf1:.2f}')\n",
        "print(f'Best Validation AUC: {auclr:.2f}')"
      ]
    },
    {
      "cell_type": "code",
      "execution_count": null,
      "metadata": {
        "id": "8VTMfkoWeGeS"
      },
      "outputs": [],
      "source": [
        "print(classification_report(y_train,clf_svm.best_estimator_.predict(X_train)))"
      ]
    },
    {
      "cell_type": "code",
      "execution_count": null,
      "metadata": {
        "id": "Dq1wqeVGeGeS"
      },
      "outputs": [],
      "source": [
        "# Visualize confusion matrix using seaborn\n",
        "sns.set(font_scale=1.2)\n",
        "plt.figure(figsize=(6, 6))\n",
        "sns.heatmap(bestsvc, annot=True, fmt=\"d\", cmap=\"Blues\", cbar=False,\n",
        "            annot_kws={\"size\": 15}, xticklabels=['Predicted 0', 'Predicted 1'],\n",
        "            yticklabels=['Actual 0', 'Actual 1'])\n",
        "plt.xlabel('Predicted label')\n",
        "plt.ylabel('True label')\n",
        "\n",
        "plt.title('Confusion Matrix')\n",
        "\n",
        "# Save the plot to a file\n",
        "#plt.savefig('confusionmatrixSVCTrain.png')\n",
        "\n",
        "plt.show()"
      ]
    },
    {
      "cell_type": "code",
      "execution_count": null,
      "metadata": {
        "id": "bDo7WK-heGeU"
      },
      "outputs": [],
      "source": [
        "# Guardar el mejor modelo\n",
        "joblib.dump(clf_svm.best_estimator_, 'mejor_modeloSVC.pkl')"
      ]
    },
    {
      "cell_type": "code",
      "source": [
        "modeloSVC = clf_svm.best_estimator_\n",
        "predictionsSVC = modeloSVC.predict(X_test)\n",
        "targetSVC = np.array(y_test)\n",
        "confusionSVC = confusion_matrix(targetSVC, predictionsSVC)\n",
        "print(confusionSVC)"
      ],
      "metadata": {
        "id": "9K7YIjoDgTwT"
      },
      "execution_count": null,
      "outputs": []
    },
    {
      "cell_type": "code",
      "source": [
        "# Calculate confusion matrix\n",
        "cmSVC = confusion_matrix(targetSVC, predictionsSVC)\n",
        "# Calculate accuracy\n",
        "accuracySVC = accuracy_score(targetSVC, predictionsSVC)\n",
        "# Calculate precision\n",
        "precisionSVC = precision_score(targetSVC, predictionsSVC)\n",
        "# Calculate recall (sensitivity)\n",
        "recallSVC = recall_score(targetSVC, predictionsSVC)\n",
        "# Calculate specificity\n",
        "specificitySVC = cmSVC[0, 0] / (cmSVC[0, 0] + cmSVC[0, 1])\n",
        "# Calculate F1-score\n",
        "f1SVC = f1_score(targetSVC, predictionsSVC)\n",
        "\n",
        "# Print the results\n",
        "print(f\"Accuracy: {accuracySVC:.4f}\")\n",
        "print(f\"Precision: {precisionSVC:.4f}\")\n",
        "print(f\"Recall (Sensitivity): {recallSVC:.4f}\")\n",
        "print(f\"Specificity: {specificitySVC:.4f}\")\n",
        "print(f\"F1-score: {f1SVC:.4f}\")"
      ],
      "metadata": {
        "id": "KH1mk1-SgU2R"
      },
      "execution_count": null,
      "outputs": []
    },
    {
      "cell_type": "code",
      "source": [
        "print(classification_report(targetSVC, predictionsSVC))"
      ],
      "metadata": {
        "id": "hXrr3PxUgV4m"
      },
      "execution_count": null,
      "outputs": []
    },
    {
      "cell_type": "code",
      "source": [
        "# Visualize confusion matrix using seaborn\n",
        "sns.set(font_scale=1.2)\n",
        "plt.figure(figsize=(6, 6))\n",
        "sns.heatmap(cmSVC, annot=True, fmt=\"d\", cmap=\"Blues\", cbar=False,\n",
        "            annot_kws={\"size\": 15}, xticklabels=['Predicted 0', 'Predicted 1'],\n",
        "            yticklabels=['Actual 0', 'Actual 1'])\n",
        "plt.xlabel('Predicted label')\n",
        "plt.ylabel('True label')\n",
        "\n",
        "plt.title('Confusion Matrix')\n",
        "\n",
        "# Save the plot to a file\n",
        "#plt.savefig('confusionmatrixSVCTest.png')\n",
        "\n",
        "plt.show()"
      ],
      "metadata": {
        "id": "NZumAL_9gW3S"
      },
      "execution_count": null,
      "outputs": []
    },
    {
      "cell_type": "code",
      "execution_count": null,
      "metadata": {
        "id": "sW8EV_VleGec"
      },
      "outputs": [],
      "source": [
        "#Train\n",
        "models_data2 = [\n",
        "    #(y_val, y_val_scores, 'purple', \"1D-CNN\"),\n",
        "    # Agregar más modelos si es necesario: (y_true, y_scores, color, nombre del modelo)\n",
        "    (y_train, clf_svm.best_estimator_.predict_proba(X_train)[:, 1], 'red', 'SVC'),\n",
        "]\n",
        "\n",
        "plot_multi_roc_curves_with_ci(models_data2, title=\"ROC Curves\", label=\"a\")\n",
        "\n",
        "# Save the plot to a file\n",
        "#plt.savefig('CurvaROCSVCTrain.png')\n",
        "\n",
        "plt.show()"
      ]
    },
    {
      "cell_type": "code",
      "execution_count": null,
      "metadata": {
        "id": "7Ia_PyKKeGef"
      },
      "outputs": [],
      "source": [
        "#Test\n",
        "models_data2 = [\n",
        "    #(y_val, y_val_scores, 'purple', \"1D-CNN\"),\n",
        "    # Agregar más modelos si es necesario: (y_true, y_scores, color, nombre del modelo)\n",
        "    (targetSVC, modeloSVC.predict_proba(X_test)[:, 1], 'red', 'SVC'),\n",
        "]\n",
        "\n",
        "plot_multi_roc_curves_with_ci(models_data2, title=\"ROC Curves\", label=\"a\")\n",
        "\n",
        "# Save the plot to a file\n",
        "#plt.savefig('CurvaROCSVCTest.png')\n",
        "\n",
        "plt.show()"
      ]
    },
    {
      "cell_type": "markdown",
      "metadata": {
        "id": "IUra40IhgdhG"
      },
      "source": [
        "### ROC Curves"
      ]
    },
    {
      "cell_type": "code",
      "execution_count": null,
      "metadata": {
        "id": "03crHYDGgYbn"
      },
      "outputs": [],
      "source": [
        "# Ejemplo de uso (sustituir con tus datos reales)\n",
        "models_data2 = [\n",
        "    # Agregar más modelos si es necesario: (y_true, y_scores, color, nombre del modelo)\n",
        "    (y_train, modeloLR.predict_proba(X_train)[:, 1], 'red', 'LR'),\n",
        "    (y_train, modeloRF.predict_proba(X_train)[:, 1], 'blue', 'RF'),\n",
        "    (y_train, modeloDT.predict_proba(X_train)[:, 1], 'orange', 'DT'),\n",
        "    (y_train, modeloERT.predict_proba(X_train)[:, 1], 'yellow', 'ERT'),\n",
        "    (y_train, modeloSVC.predict_proba(X_train)[:, 1], 'green', 'SVC'),\n",
        "    (y_train, modeloANN.predict_proba(X_train)[:, 1], 'purple', 'ANN'),\n",
        "    (y_train, modeloAdaboost.predict_proba(X_train)[:, 1], 'black', 'Adaboost'),\n",
        "]\n",
        "\n",
        "plot_multi_roc_curves_with_ci(models_data2, title=\"ROC Curves\", label=\"a\")\n",
        "\n",
        "# Save the plot to a file\n",
        "plt.savefig('CurvasROCTrain.png')\n",
        "\n",
        "plt.show()"
      ]
    },
    {
      "cell_type": "code",
      "source": [
        "# Obtener las probabilidades predichas (no binarizadas)\n",
        "y_test_pred_probs = best_model.predict(X_test1).ravel()"
      ],
      "metadata": {
        "id": "B_2oRxi_gas3"
      },
      "execution_count": null,
      "outputs": []
    },
    {
      "cell_type": "code",
      "execution_count": null,
      "metadata": {
        "id": "wTAe2KfpeGep"
      },
      "outputs": [],
      "source": [
        "# Modificamos la función para incluir el cálculo del AUC con CI\n",
        "def plot_multi_roc_curves_with_ci2(models_data, title=\"ROC Curves\", label=\"a\", n_bootstraps=1000):\n",
        "    \"\"\"\n",
        "    Graficar múltiples curvas ROC con intervalos de confianza (95% CI).\n",
        "\n",
        "    Parámetros:\n",
        "        - models_data: Lista de tuplas [(y_true, y_scores, color, nombre del modelo)].\n",
        "        - title: Título del gráfico.\n",
        "        - label: Etiqueta en la parte superior izquierda del gráfico.\n",
        "        - n_bootstraps: Número de muestras bootstrap para calcular el CI del AUC.\n",
        "    \"\"\"\n",
        "    # Estilo limpio con fondo blanco\n",
        "    plt.style.use('default')\n",
        "\n",
        "    plt.figure(figsize=(10, 8))\n",
        "    ax = plt.gca()\n",
        "    ax.set_facecolor(\"white\")  # Fondo blanco explícito para los ejes\n",
        "\n",
        "    for model_data in models_data:\n",
        "        y_true, y_scores, color, model_name = model_data\n",
        "\n",
        "        # Calcula ROC y AUC\n",
        "        fpr, tpr, _ = roc_curve(y_true, y_scores)\n",
        "        roc_auc = auc(fpr, tpr)\n",
        "\n",
        "        # Calcula el intervalo de confianza del AUC\n",
        "        ci_lower, ci_upper = compute_auc_ci(np.array(y_true), np.array(y_scores), n_bootstraps=n_bootstraps)\n",
        "\n",
        "        # Agregar la curva al gráfico\n",
        "        plt.plot(\n",
        "            fpr,\n",
        "            tpr,\n",
        "            color=color,\n",
        "            lw=2,\n",
        "            label=f'{model_name} AUC={roc_auc:.3f} (CI: {ci_lower:.3f} - {ci_upper:.3f})'\n",
        "        )\n",
        "\n",
        "    # Línea diagonal gris discontinua\n",
        "    plt.plot([0, 1], [0, 1], color='white', linestyle='--', lw=1.5)\n",
        "\n",
        "     # Línea diagonal de referencia\n",
        "    plt.plot(\n",
        "        [0, 1], [0, 1],\n",
        "        color='gray',\n",
        "        linestyle='--',\n",
        "        linewidth=1.5\n",
        "    )\n",
        "\n",
        "    # Configuración del gráfico\n",
        "    plt.xlim([0.0, 1.0])\n",
        "    plt.ylim([0.0, 1.05])\n",
        "    plt.xlabel('1 - Specificity', fontsize=14)\n",
        "    plt.ylabel('Sensitivity', fontsize=14)\n",
        "    plt.title(title, fontsize=10)\n",
        "    # Leyenda más compacta\n",
        "    plt.legend(\n",
        "        loc=\"lower right\",\n",
        "        fontsize=11,  # Tamaño de fuente más pequeño\n",
        "        bbox_to_anchor=(1.0, 0.0),  # Ajustar la posición de la leyenda\n",
        "        frameon=True,  # Habilitar el marco\n",
        "        shadow=False,  # Sin sombra\n",
        "        borderpad=0.5  # Espaciado interno del marco\n",
        "    )\n",
        "\n",
        "    # Etiqueta en la parte superior izquierda\n",
        "    plt.text(-0.1, 1.05, label, fontsize=16, fontweight='bold', va='center', ha='center')\n",
        "\n",
        "    plt.tight_layout()\n",
        "    plt.show()"
      ]
    },
    {
      "cell_type": "code",
      "source": [
        "# Ejemplo de uso (sustituir con tus datos reales)\n",
        "models_data2 = [\n",
        "    # Agregar más modelos si es necesario: (y_true, y_scores, color, nombre del modelo)\n",
        "    (targetlr, modeloLR.predict_proba(X_test)[:, 1], 'red', 'LR'),\n",
        "    (targetRF, modeloRF.predict_proba(X_test)[:, 1], 'blue', 'RF'),\n",
        "    (targetDT, modeloDT.predict_proba(X_test)[:, 1], 'orange', 'DT'),\n",
        "    (targetERT, modeloERT.predict_proba(X_test)[:, 1], 'yellow', 'ERT'),\n",
        "    (targetSVC, modeloSVC.predict_proba(X_test)[:, 1], 'green', 'SVC'),\n",
        "    (targetANN, modelNN.predict_proba(X_test)[:, 1], 'purple', 'ANN')\n",
        "]\n",
        "\n",
        "# Agregar a la lista de modelos\n",
        "models_data2.append(\n",
        "    (y_test1, y_test_pred_probs, 'cyan', '1D-CNN')\n",
        ")\n",
        "\n",
        "\n",
        "plot_multi_roc_curves_with_ci2(models_data2, title=\"ROC Curves\", label=\"a\")\n",
        "\n",
        "# Save the plot to a file\n",
        "#plt.savefig('CurvasROCTest.png')\n",
        "\n",
        "plt.show()"
      ],
      "metadata": {
        "id": "yOS-rtA2gcdW"
      },
      "execution_count": null,
      "outputs": []
    },
    {
      "cell_type": "markdown",
      "metadata": {
        "id": "xuz8Gcb_eGer"
      },
      "source": [
        "### Comparación de métricas de bondad de ajuste"
      ]
    },
    {
      "cell_type": "markdown",
      "metadata": {
        "id": "1lQl72RjeGer"
      },
      "source": [
        "#### DeLong Test for AUC"
      ]
    },
    {
      "cell_type": "code",
      "execution_count": null,
      "metadata": {
        "id": "USkxLRCgeGes"
      },
      "outputs": [],
      "source": [
        "from MLstatkit.stats import Delong_test\n",
        "import numpy as np"
      ]
    },
    {
      "cell_type": "code",
      "source": [
        "# Lista de modelos (con sus etiquetas y probabilidades)\n",
        "models_data2 = [\n",
        "    (targetlr, modeloLR.predict_proba(X_test)[:, 1], 'red', 'LR'),\n",
        "    (targetRF, modeloRF.predict_proba(X_test)[:, 1], 'blue', 'RF'),\n",
        "    (targetDT, modeloDT.predict_proba(X_test)[:, 1], 'orange', 'DT'),\n",
        "    (targetERT, modeloERT.predict_proba(X_test)[:, 1], 'yellow', 'ERT'),\n",
        "    (targetSVC, modeloSVC.predict_proba(X_test)[:, 1], 'green', 'SVC'),\n",
        "    (targetANN, modelNN.predict_proba(X_test)[:, 1], 'purple', 'ANN')\n",
        "]\n",
        "\n",
        "models_data2.append((y_test1, y_test_pred_probs, 'cyan', '1D-CNN'))\n",
        "\n",
        "# Realiza la prueba de DeLong para todas las combinaciones de modelos\n",
        "for i in range(len(models_data2)):\n",
        "    for j in range(i + 1, len(models_data2)):\n",
        "        # Extrae los datos de los modelos i y j\n",
        "        y_true_1, prob_1, color_1, model_name_1 = models_data2[i]\n",
        "        y_true_2, prob_2, color_2, model_name_2 = models_data2[j]\n",
        "\n",
        "        # Asegúrate de que los datos sean arrays 1D\n",
        "        y_true_1 = np.array(y_true_1).flatten()\n",
        "        y_true_2 = np.array(y_true_2).flatten()\n",
        "        prob_1 = np.array(prob_1).flatten()\n",
        "        prob_2 = np.array(prob_2).flatten()\n",
        "\n",
        "        # Realiza la prueba de DeLong\n",
        "        z, p, ci_LR, ci_RF, auc_LR, auc_RF, info = Delong_test(\n",
        "            y_true_1, prob_1, prob_2,\n",
        "            alpha=0.95, return_ci=True, return_auc=True, verbose=1\n",
        "        )\n",
        "\n",
        "        # Imprime los resultados\n",
        "        print(f\"Comparación: {model_name_1} vs {model_name_2}\")\n",
        "        print(f\"Method   : {info['method']}\")\n",
        "        print(f\"AUC_{model_name_1}    : {auc_LR * 100:.1f}, CI_{model_name_1} = {ci_LR}\")\n",
        "        print(f\"AUC_{model_name_2}    : {auc_RF * 100:.1f}, CI_{model_name_2} = {ci_RF}\")\n",
        "        print(f\"z-score  : {z:.3f}, p-value = {p:.3e}\")\n",
        "        print(\"-\" * 50)"
      ],
      "metadata": {
        "id": "5_134I5-g-7l"
      },
      "execution_count": null,
      "outputs": []
    },
    {
      "cell_type": "markdown",
      "metadata": {
        "id": "MG8B5bgFeGet"
      },
      "source": [
        "#### Wilcoxon Test for accuracy"
      ]
    },
    {
      "cell_type": "code",
      "execution_count": null,
      "metadata": {
        "id": "6obQUiNveGeu"
      },
      "outputs": [],
      "source": [
        "from scipy.stats import wilcoxon\n",
        "import itertools\n",
        "import numpy as np"
      ]
    },
    {
      "cell_type": "code",
      "execution_count": null,
      "metadata": {
        "id": "Yb0TcC7XeGeu"
      },
      "outputs": [],
      "source": [
        "accuracy_modeloANN = (y_test.iloc[:, 0].values == predictionsANN).astype(int)\n",
        "accuracy_modeloLR = (y_test.iloc[:, 0].values == predictionslr).astype(int)\n",
        "accuracy_modeloRF = (y_test.iloc[:, 0].values == predictionsRF).astype(int)\n",
        "accuracy_modeloDT = (y_test.iloc[:, 0].values == predictionsDT).astype(int)\n",
        "accuracy_modeloERT = (y_test.iloc[:, 0].values == predictionsERT).astype(int)\n",
        "accuracy_modeloSVC = (y_test.iloc[:, 0].values == predictionsSVC).astype(int)\n",
        "accuracy_modelo1DCNN = (y_test_pred.flatten().astype(np.int64) == y_test1.flatten()).astype(int)"
      ]
    },
    {
      "cell_type": "code",
      "execution_count": null,
      "metadata": {
        "id": "IPMAq9hneGev"
      },
      "outputs": [],
      "source": [
        "# List of all accuracies\n",
        "accuracies = {\n",
        "    'ANN': accuracy_modeloANN,\n",
        "    'LR': accuracy_modeloLR,\n",
        "    'RF': accuracy_modeloRF,\n",
        "    'DT': accuracy_modeloDT,\n",
        "    'ERT': accuracy_modeloERT,\n",
        "    'SVC': accuracy_modeloSVC,\n",
        "    '1D-CNN': accuracy_modelo1DCNN\n",
        "}"
      ]
    },
    {
      "cell_type": "code",
      "source": [
        "# Generando todas las combinaciones posibles de modelos para hacer la comparación\n",
        "combinations = itertools.combinations(accuracies.keys(), 2)\n",
        "\n",
        "# Comparando cada par de modelos con el test de Wilcoxon\n",
        "for model1, model2 in combinations:\n",
        "    # Aplicando el test de Wilcoxon entre los modelos\n",
        "    stat, p_value = wilcoxon(accuracies[model1], accuracies[model2])\n",
        "    print(f\"Comparando {model1} vs {model2}\")\n",
        "    print(f\"Estadístico de Wilcoxon: {stat}\")\n",
        "    print(f\"Valor p: {p_value}\\n\")"
      ],
      "metadata": {
        "id": "MDvUWT1qhBq0"
      },
      "execution_count": null,
      "outputs": []
    },
    {
      "cell_type": "markdown",
      "metadata": {
        "id": "w5oBGVMegjKo"
      },
      "source": [
        "### Shapley Values"
      ]
    },
    {
      "cell_type": "code",
      "source": [
        "# Convertir el tensor de TensorFlow a un array de NumPy\n",
        "X_test_reshaped = X_test1.numpy()"
      ],
      "metadata": {
        "id": "YTr5QI5ahNOK"
      },
      "execution_count": null,
      "outputs": []
    },
    {
      "cell_type": "code",
      "execution_count": null,
      "metadata": {
        "id": "6-j5CrGRgYjl"
      },
      "outputs": [],
      "source": [
        "# Paso 2: Inicializar el explainer SHAP\n",
        "explainer = shap.DeepExplainer(best_model, X_test_reshaped)"
      ]
    },
    {
      "cell_type": "code",
      "execution_count": null,
      "metadata": {
        "id": "1PX3jf7YeGey"
      },
      "outputs": [],
      "source": [
        "# Calcular los valores SHAP para las primeras n muestras\n",
        "shap_values = explainer.shap_values(X_test_reshaped)"
      ]
    },
    {
      "cell_type": "code",
      "execution_count": null,
      "metadata": {
        "id": "AKSsoMG4gYle"
      },
      "outputs": [],
      "source": [
        "# Asegúrate de que los shap_values sean bidimensionales\n",
        "shap_values2 = shap_values.reshape(shap_values.shape[0], -1)"
      ]
    },
    {
      "cell_type": "code",
      "execution_count": null,
      "metadata": {
        "id": "2Ilf7bOVgYng",
        "outputId": "9ef2a145-a27c-4691-81a0-c86795e6aeaa"
      },
      "outputs": [
        {
          "data": {
            "image/png": "[encoded data removed]",
            "text/plain": [
              "<Figure size 800x1200 with 1 Axes>"
            ]
          },
          "metadata": {},
          "output_type": "display_data"
        }
      ],
      "source": [
        "explanation= shap.Explanation(values=shap_values2,\n",
        "                             data=X_test_reshaped,\n",
        "                             feature_names=X.columns)\n",
        "shap.plots.bar(explanation, max_display=21)"
      ]
    },
    {
      "cell_type": "code",
      "execution_count": null,
      "metadata": {
        "id": "Ilsy0Q9XgYpw",
        "outputId": "647e61e9-ba9d-4966-b308-e22f35ef5c64"
      },
      "outputs": [
        {
          "data": {
            "image/png": "[encoded data removed]",
            "text/plain": [
              "<Figure size 800x990 with 2 Axes>"
            ]
          },
          "metadata": {},
          "output_type": "display_data"
        }
      ],
      "source": [
        "# Crear el objeto Explanation para SHAP\n",
        "explanation = shap.Explanation(values=shap_values2,\n",
        "                                data=X_sample,\n",
        "                                feature_names=X.columns)\n",
        "\n",
        "# Crear el Beeswarm Plot\n",
        "shap.plots.beeswarm(explanation, max_display=21)"
      ]
    },
    {
      "cell_type": "code",
      "execution_count": null,
      "metadata": {
        "id": "29Nq1A6rgZB-",
        "outputId": "e9b3f270-a590-4de1-964c-0ea6b902cd15"
      },
      "outputs": [
        {
          "data": {
            "image/png": "[encoded data removed]",
            "text/plain": [
              "<Figure size 800x1200 with 1 Axes>"
            ]
          },
          "metadata": {},
          "output_type": "display_data"
        }
      ],
      "source": [
        "shap.plots.bar(explanation[0], max_display=21) #Poor"
      ]
    },
    {
      "cell_type": "code",
      "execution_count": null,
      "metadata": {
        "id": "USeCKPewc4IY",
        "outputId": "5a42f478-8ccd-46f8-ad1f-2a7b80a19a4f"
      },
      "outputs": [
        {
          "data": {
            "image/png": "[encoded data removed]",
            "text/plain": [
              "<Figure size 800x1200 with 1 Axes>"
            ]
          },
          "metadata": {},
          "output_type": "display_data"
        }
      ],
      "source": [
        "shap.plots.bar(explanation[1], max_display=21) #Not Poor"
      ]
    },
    {
      "cell_type": "code",
      "execution_count": null,
      "metadata": {
        "id": "D30xw434c4KX"
      },
      "outputs": [],
      "source": []
    }
  ],
  "metadata": {
    "colab": {
      "provenance": []
    },
    "kernelspec": {
      "display_name": "Python 3 (ipykernel)",
      "language": "python",
      "name": "python3"
    },
    "language_info": {
      "codemirror_mode": {
        "name": "ipython",
        "version": 3
      },
      "file_extension": ".py",
      "mimetype": "text/x-python",
      "name": "python",
      "nbconvert_exporter": "python",
      "pygments_lexer": "ipython3",
      "version": "3.11.7"
    }
  },
  "nbformat": 4,
  "nbformat_minor": 0
}